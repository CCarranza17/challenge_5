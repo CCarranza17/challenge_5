{
 "cells": [
  {
   "cell_type": "markdown",
   "metadata": {},
   "source": [
    "# Financial Planning with APIs and Simulations\n",
    "\n",
    "In this Challenge, you’ll create two financial analysis tools by using a single Jupyter notebook:\n",
    "\n",
    "Part 1: A financial planner for emergencies. The members will be able to use this tool to visualize their current savings. The members can then determine if they have enough reserves for an emergency fund.\n",
    "\n",
    "Part 2: A financial planner for retirement. This tool will forecast the performance of their retirement portfolio in 30 years. To do this, the tool will make an Alpaca API call via the Alpaca SDK to get historical price data for use in Monte Carlo simulations.\n",
    "\n",
    "You’ll use the information from the Monte Carlo simulation to answer questions about the portfolio in your Jupyter notebook.\n",
    "\n"
   ]
  },
  {
   "cell_type": "code",
   "execution_count": 1,
   "metadata": {},
   "outputs": [],
   "source": [
    "# Import the required libraries and dependencies\n",
    "import os\n",
    "import requests\n",
    "import json\n",
    "import pandas as pd\n",
    "from dotenv import load_dotenv\n",
    "import alpaca_trade_api as tradeapi\n",
    "from MCForecastTools import MCSimulation\n",
    "\n",
    "%matplotlib inline"
   ]
  },
  {
   "cell_type": "code",
   "execution_count": 2,
   "metadata": {},
   "outputs": [
    {
     "data": {
      "text/plain": [
       "True"
      ]
     },
     "execution_count": 2,
     "metadata": {},
     "output_type": "execute_result"
    }
   ],
   "source": [
    "# Load the environment variables from the .env file\n",
    "#by calling the load_dotenv function\n",
    "load_dotenv()"
   ]
  },
  {
   "cell_type": "markdown",
   "metadata": {},
   "source": [
    "## Part 1: Create a Financial Planner for Emergencies"
   ]
  },
  {
   "cell_type": "markdown",
   "metadata": {},
   "source": [
    "### Evaluate the Cryptocurrency Wallet by Using the Requests Library\n",
    "\n",
    "In this section, you’ll determine the current value of a member’s cryptocurrency wallet. You’ll collect the current prices for the Bitcoin and Ethereum cryptocurrencies by using the Python Requests library. For the prototype, you’ll assume that the member holds the 1.2 Bitcoins (BTC) and 5.3 Ethereum coins (ETH). To do all this, complete the following steps:\n",
    "\n",
    "1. Create a variable named `monthly_income`, and set its value to `12000`.\n",
    "\n",
    "2. Use the Requests library to get the current price (in US dollars) of Bitcoin (BTC) and Ethereum (ETH) by using the API endpoints that the starter code supplies.\n",
    "\n",
    "3. Navigate the JSON response object to access the current price of each coin, and store each in a variable.\n",
    "\n",
    "    > **Hint** Note the specific identifier for each cryptocurrency in the API JSON response. The Bitcoin identifier is `1`, and the Ethereum identifier is `1027`.\n",
    "\n",
    "4. Calculate the value, in US dollars, of the current amount of each cryptocurrency and of the entire cryptocurrency wallet.\n",
    "\n"
   ]
  },
  {
   "cell_type": "code",
   "execution_count": 3,
   "metadata": {},
   "outputs": [],
   "source": [
    "# The current number of coins for each cryptocurrency asset held in the portfolio.\n",
    "btc_coins = 1.2\n",
    "eth_coins = 5.3"
   ]
  },
  {
   "cell_type": "markdown",
   "metadata": {},
   "source": [
    "#### Step 1: Create a variable named `monthly_income`, and set its value to `12000`."
   ]
  },
  {
   "cell_type": "code",
   "execution_count": 4,
   "metadata": {},
   "outputs": [],
   "source": [
    "# The monthly amount for the member's household income\n",
    "monthly_income = 12000\n"
   ]
  },
  {
   "cell_type": "markdown",
   "metadata": {},
   "source": [
    "#### Review the endpoint URLs for the API calls to Free Crypto API in order to get the current pricing information for both BTC and ETH."
   ]
  },
  {
   "cell_type": "code",
   "execution_count": 5,
   "metadata": {},
   "outputs": [],
   "source": [
    "# The Free Crypto API Call endpoint URLs for the held cryptocurrency assets\n",
    "btc_url = \"https://api.alternative.me/v2/ticker/Bitcoin/?convert=USD\"\n",
    "eth_url = \"https://api.alternative.me/v2/ticker/Ethereum/?convert=USD\""
   ]
  },
  {
   "cell_type": "markdown",
   "metadata": {},
   "source": [
    "#### Step 2. Use the Requests library to get the current price (in US dollars) of Bitcoin (BTC) and Ethereum (ETH) by using the API endpoints that the starter code supplied."
   ]
  },
  {
   "cell_type": "code",
   "execution_count": 6,
   "metadata": {},
   "outputs": [
    {
     "name": "stdout",
     "output_type": "stream",
     "text": [
      "{\n",
      "    \"data\": {\n",
      "        \"1\": {\n",
      "            \"circulating_supply\": 18853450,\n",
      "            \"id\": 1,\n",
      "            \"last_updated\": 1635133766,\n",
      "            \"max_supply\": 21000000,\n",
      "            \"name\": \"Bitcoin\",\n",
      "            \"quotes\": {\n",
      "                \"USD\": {\n",
      "                    \"market_cap\": 1168750025154,\n",
      "                    \"percent_change_1h\": -0.0716661547855242,\n",
      "                    \"percent_change_24h\": 0.75283246460748,\n",
      "                    \"percent_change_7d\": 0.647550293432408,\n",
      "                    \"percentage_change_1h\": -0.0716661547855242,\n",
      "                    \"percentage_change_24h\": 0.75283246460748,\n",
      "                    \"percentage_change_7d\": 0.647550293432408,\n",
      "                    \"price\": 61983.0,\n",
      "                    \"volume_24h\": 30730854860\n",
      "                }\n",
      "            },\n",
      "            \"rank\": 1,\n",
      "            \"symbol\": \"BTC\",\n",
      "            \"total_supply\": 18853450,\n",
      "            \"website_slug\": \"bitcoin\"\n",
      "        }\n",
      "    },\n",
      "    \"metadata\": {\n",
      "        \"error\": null,\n",
      "        \"num_cryptocurrencies\": 3105,\n",
      "        \"timestamp\": 1635133766\n",
      "    }\n",
      "}\n"
     ]
    }
   ],
   "source": [
    "# Using the Python requests library, make an API call to access the current price of BTC\n",
    "btc_response = requests.get(btc_url).json()\n",
    "\n",
    "# Use the json.dumps function to review the response data from the API call\n",
    "# Use the indent and sort_keys parameters to make the response object readable\n",
    "print(json.dumps(btc_response, indent=4, sort_keys=True))\n"
   ]
  },
  {
   "cell_type": "code",
   "execution_count": 7,
   "metadata": {},
   "outputs": [
    {
     "name": "stdout",
     "output_type": "stream",
     "text": [
      "{\n",
      "    \"data\": {\n",
      "        \"1027\": {\n",
      "            \"circulating_supply\": 118065769,\n",
      "            \"id\": 1027,\n",
      "            \"last_updated\": 1635133786,\n",
      "            \"max_supply\": 0,\n",
      "            \"name\": \"Ethereum\",\n",
      "            \"quotes\": {\n",
      "                \"USD\": {\n",
      "                    \"market_cap\": 487834891808,\n",
      "                    \"percent_change_1h\": -0.0543136898715169,\n",
      "                    \"percent_change_24h\": 0.0118846488968846,\n",
      "                    \"percent_change_7d\": 7.31781897476662,\n",
      "                    \"percentage_change_1h\": -0.0543136898715169,\n",
      "                    \"percentage_change_24h\": 0.0118846488968846,\n",
      "                    \"percentage_change_7d\": 7.31781897476662,\n",
      "                    \"price\": 4136.27,\n",
      "                    \"volume_24h\": 16823605141\n",
      "                }\n",
      "            },\n",
      "            \"rank\": 2,\n",
      "            \"symbol\": \"ETH\",\n",
      "            \"total_supply\": 118065769,\n",
      "            \"website_slug\": \"ethereum\"\n",
      "        }\n",
      "    },\n",
      "    \"metadata\": {\n",
      "        \"error\": null,\n",
      "        \"num_cryptocurrencies\": 3105,\n",
      "        \"timestamp\": 1635133786\n",
      "    }\n",
      "}\n"
     ]
    }
   ],
   "source": [
    "# Using the Python requests library, make an API call to access the current price ETH\n",
    "eth_response = requests.get(eth_url).json()\n",
    "\n",
    "# Use the json.dumps function to review the response data from the API call\n",
    "# Use the indent and sort_keys parameters to make the response object readable\n",
    "print(json.dumps(eth_response, indent=4, sort_keys=True))\n"
   ]
  },
  {
   "cell_type": "markdown",
   "metadata": {},
   "source": [
    "#### Step 3: Navigate the JSON response object to access the current price of each coin, and store each in a variable."
   ]
  },
  {
   "cell_type": "code",
   "execution_count": 8,
   "metadata": {},
   "outputs": [
    {
     "name": "stdout",
     "output_type": "stream",
     "text": [
      "The price of Bitcoin is $61983.00\n"
     ]
    }
   ],
   "source": [
    "# Navigate the BTC response object to access the current price of BTC\n",
    "btc_price = btc_response['data']['1']['quotes']['USD']['price']\n",
    "\n",
    "# Print the current price of BTC\n",
    "print(f\"The price of Bitcoin is ${btc_price:0.2f}\")\n"
   ]
  },
  {
   "cell_type": "code",
   "execution_count": 9,
   "metadata": {},
   "outputs": [
    {
     "name": "stdout",
     "output_type": "stream",
     "text": [
      "The price of Ethereum is $4136.27\n"
     ]
    }
   ],
   "source": [
    "# Navigate the BTC response object to access the current price of ETH\n",
    "eth_price = eth_response['data']['1027']['quotes']['USD']['price']\n",
    "\n",
    "# Print the current price of ETH\n",
    "print(f\"The price of Ethereum is ${eth_price:0.2f}\")\n"
   ]
  },
  {
   "cell_type": "markdown",
   "metadata": {},
   "source": [
    "### Step 4: Calculate the value, in US dollars, of the current amount of each cryptocurrency and of the entire cryptocurrency wallet."
   ]
  },
  {
   "cell_type": "code",
   "execution_count": 10,
   "metadata": {},
   "outputs": [
    {
     "name": "stdout",
     "output_type": "stream",
     "text": [
      "The current value of Bitcoin holdings is $74379.60\n"
     ]
    }
   ],
   "source": [
    "# Compute the current value of the BTC holding \n",
    "btc_value = btc_coins * btc_price\n",
    "\n",
    "# Print current value of your holding in BTC\n",
    "print(f\"The current value of Bitcoin holdings is ${btc_value:0.2f}\")"
   ]
  },
  {
   "cell_type": "code",
   "execution_count": 11,
   "metadata": {},
   "outputs": [
    {
     "name": "stdout",
     "output_type": "stream",
     "text": [
      "The current value of Ethereum holdings is $21922.23\n"
     ]
    }
   ],
   "source": [
    "# Compute the current value of the ETH holding \n",
    "eth_value = eth_coins * eth_price\n",
    "\n",
    "# Print current value of your holding in ETH\n",
    "print(f\"The current value of Ethereum holdings is ${eth_value:0.2f}\")\n"
   ]
  },
  {
   "cell_type": "code",
   "execution_count": 12,
   "metadata": {},
   "outputs": [
    {
     "name": "stdout",
     "output_type": "stream",
     "text": [
      "The current value of the cryptocurrency wallet is $96301.83\n"
     ]
    }
   ],
   "source": [
    "# Compute the total value of the cryptocurrency wallet\n",
    "# Add the value of the BTC holding to the value of the ETH holding\n",
    "total_crypto_wallet = btc_value + eth_value\n",
    "\n",
    "# Print current cryptocurrency wallet balance\n",
    "print(f\"The current value of the cryptocurrency wallet is ${total_crypto_wallet:0.2f}\")\n"
   ]
  },
  {
   "cell_type": "markdown",
   "metadata": {},
   "source": [
    "### Evaluate the Stock and Bond Holdings by Using the Alpaca SDK\n",
    "\n",
    "In this section, you’ll determine the current value of a member’s stock and bond holdings. You’ll make an API call to Alpaca via the Alpaca SDK to get the current closing prices of the SPDR S&P 500 ETF Trust (ticker: SPY) and of the iShares Core US Aggregate Bond ETF (ticker: AGG). For the prototype, assume that the member holds 110 shares of SPY, which represents the stock portion of their portfolio, and 200 shares of AGG, which represents the bond portion. To do all this, complete the following steps:\n",
    "\n",
    "1. In the `Starter_Code` folder, create an environment file (`.env`) to store the values of your Alpaca API key and Alpaca secret key.\n",
    "\n",
    "2. Set the variables for the Alpaca API and secret keys. Using the Alpaca SDK, create the Alpaca `tradeapi.REST` object. In this object, include the parameters for the Alpaca API key, the secret key, and the version number.\n",
    "\n",
    "3. Set the following parameters for the Alpaca API call:\n",
    "\n",
    "    - `tickers`: Use the tickers for the member’s stock and bond holdings.\n",
    "\n",
    "    - `timeframe`: Use a time frame of one day.\n",
    "\n",
    "    - `start_date` and `end_date`: Use the same date for these parameters, and format them with the date of the previous weekday (or `2020-08-07`). This is because you want the one closing price for the most-recent trading day.\n",
    "\n",
    "4. Get the current closing prices for `SPY` and `AGG` by using the Alpaca `get_barset` function. Format the response as a Pandas DataFrame by including the `df` property at the end of the `get_barset` function.\n",
    "\n",
    "5. Navigating the Alpaca response DataFrame, select the `SPY` and `AGG` closing prices, and store them as variables.\n",
    "\n",
    "6. Calculate the value, in US dollars, of the current amount of shares in each of the stock and bond portions of the portfolio, and print the results.\n"
   ]
  },
  {
   "cell_type": "markdown",
   "metadata": {},
   "source": [
    "#### Review the total number of shares held in both (SPY) and (AGG)."
   ]
  },
  {
   "cell_type": "code",
   "execution_count": 13,
   "metadata": {},
   "outputs": [],
   "source": [
    "# Current amount of shares held in both the stock (SPY) and bond (AGG) portion of the portfolio.\n",
    "spy_shares = 110\n",
    "agg_shares = 200\n"
   ]
  },
  {
   "cell_type": "markdown",
   "metadata": {},
   "source": [
    "#### Step 1: In the `Starter_Code` folder, create an environment file (`.env`) to store the values of your Alpaca API key and Alpaca secret key."
   ]
  },
  {
   "cell_type": "markdown",
   "metadata": {},
   "source": [
    "#### Step 2: Set the variables for the Alpaca API and secret keys. Using the Alpaca SDK, create the Alpaca `tradeapi.REST` object. In this object, include the parameters for the Alpaca API key, the secret key, and the version number."
   ]
  },
  {
   "cell_type": "code",
   "execution_count": 14,
   "metadata": {},
   "outputs": [
    {
     "data": {
      "text/plain": [
       "str"
      ]
     },
     "metadata": {},
     "output_type": "display_data"
    },
    {
     "data": {
      "text/plain": [
       "str"
      ]
     },
     "metadata": {},
     "output_type": "display_data"
    }
   ],
   "source": [
    "# Set the variables for the Alpaca API and secret keys\n",
    "alpaca_api_key = os.getenv(\"ALPACA_API_KEY\")\n",
    "alpaca_secret_key = os.getenv(\"ALPACA_SECRET_KEY\")\n",
    "\n",
    "display(type(alpaca_api_key))\n",
    "display(type(alpaca_secret_key))\n",
    "\n",
    "# Create the Alpaca tradeapi.REST object\n",
    "alpaca = tradeapi.REST(\n",
    "    alpaca_api_key,\n",
    "    alpaca_secret_key,\n",
    "    api_version=\"v2\")\n"
   ]
  },
  {
   "cell_type": "markdown",
   "metadata": {},
   "source": [
    "#### Step 3: Set the following parameters for the Alpaca API call:\n",
    "\n",
    "- `tickers`: Use the tickers for the member’s stock and bond holdings.\n",
    "\n",
    "- `timeframe`: Use a time frame of one day.\n",
    "\n",
    "- `start_date` and `end_date`: Use the same date for these parameters, and format them with the date of the previous weekday (or `2020-08-07`). This is because you want the one closing price for the most-recent trading day.\n"
   ]
  },
  {
   "cell_type": "code",
   "execution_count": 15,
   "metadata": {},
   "outputs": [],
   "source": [
    "# Set the tickers for both the bond and stock portion of the portfolio\n",
    "tickers = ['SPY', 'AGG']\n",
    "\n",
    "# Set timeframe to 1D \n",
    "timeframe = \"1D\"\n",
    "\n",
    "# Format current date as ISO format\n",
    "# Set both the start and end date at the date of your prior weekday \n",
    "# This will give you the closing price of the previous trading day\n",
    "# Alternatively you can use a start and end date of 2020-08-07\n",
    "start_date = pd.Timestamp(\"2020-10-22\", tz=\"America/New_York\").isoformat()\n",
    "end_date = pd.Timestamp(\"2020-10-22\", tz=\"America/New_York\").isoformat()\n"
   ]
  },
  {
   "cell_type": "markdown",
   "metadata": {},
   "source": [
    "#### Step 4: Get the current closing prices for `SPY` and `AGG` by using the Alpaca `get_barset` function. Format the response as a Pandas DataFrame by including the `df` property at the end of the `get_barset` function."
   ]
  },
  {
   "cell_type": "code",
   "execution_count": 16,
   "metadata": {},
   "outputs": [
    {
     "data": {
      "text/html": [
       "<div>\n",
       "<style scoped>\n",
       "    .dataframe tbody tr th:only-of-type {\n",
       "        vertical-align: middle;\n",
       "    }\n",
       "\n",
       "    .dataframe tbody tr th {\n",
       "        vertical-align: top;\n",
       "    }\n",
       "\n",
       "    .dataframe thead tr th {\n",
       "        text-align: left;\n",
       "    }\n",
       "\n",
       "    .dataframe thead tr:last-of-type th {\n",
       "        text-align: right;\n",
       "    }\n",
       "</style>\n",
       "<table border=\"1\" class=\"dataframe\">\n",
       "  <thead>\n",
       "    <tr>\n",
       "      <th></th>\n",
       "      <th colspan=\"5\" halign=\"left\">AGG</th>\n",
       "      <th colspan=\"5\" halign=\"left\">SPY</th>\n",
       "    </tr>\n",
       "    <tr>\n",
       "      <th></th>\n",
       "      <th>open</th>\n",
       "      <th>high</th>\n",
       "      <th>low</th>\n",
       "      <th>close</th>\n",
       "      <th>volume</th>\n",
       "      <th>open</th>\n",
       "      <th>high</th>\n",
       "      <th>low</th>\n",
       "      <th>close</th>\n",
       "      <th>volume</th>\n",
       "    </tr>\n",
       "    <tr>\n",
       "      <th>time</th>\n",
       "      <th></th>\n",
       "      <th></th>\n",
       "      <th></th>\n",
       "      <th></th>\n",
       "      <th></th>\n",
       "      <th></th>\n",
       "      <th></th>\n",
       "      <th></th>\n",
       "      <th></th>\n",
       "      <th></th>\n",
       "    </tr>\n",
       "  </thead>\n",
       "  <tbody>\n",
       "    <tr>\n",
       "      <th>2020-10-22 00:00:00-04:00</th>\n",
       "      <td>117.51</td>\n",
       "      <td>117.54</td>\n",
       "      <td>117.3</td>\n",
       "      <td>117.31</td>\n",
       "      <td>3938694</td>\n",
       "      <td>342.96</td>\n",
       "      <td>345.24</td>\n",
       "      <td>340.65</td>\n",
       "      <td>344.63</td>\n",
       "      <td>45094573</td>\n",
       "    </tr>\n",
       "  </tbody>\n",
       "</table>\n",
       "</div>"
      ],
      "text/plain": [
       "                              AGG                                     SPY  \\\n",
       "                             open    high    low   close   volume    open   \n",
       "time                                                                        \n",
       "2020-10-22 00:00:00-04:00  117.51  117.54  117.3  117.31  3938694  342.96   \n",
       "\n",
       "                                                             \n",
       "                             high     low   close    volume  \n",
       "time                                                         \n",
       "2020-10-22 00:00:00-04:00  345.24  340.65  344.63  45094573  "
      ]
     },
     "execution_count": 16,
     "metadata": {},
     "output_type": "execute_result"
    }
   ],
   "source": [
    "# Use the Alpaca get_barset function to get current closing prices the portfolio\n",
    "# Be sure to set the `df` property after the function to format the response object as a DataFrame\n",
    "portfolio_prices_df = alpaca.get_barset(\n",
    "    tickers,\n",
    "    timeframe,\n",
    "    start=start_date,\n",
    "    end=end_date,\n",
    ").df\n",
    "\n",
    "# Review the first 5 rows of the Alpaca DataFrame\n",
    "portfolio_prices_df.head()\n"
   ]
  },
  {
   "cell_type": "markdown",
   "metadata": {},
   "source": [
    "#### Step 5: Navigating the Alpaca response DataFrame, select the `SPY` and `AGG` closing prices, and store them as variables."
   ]
  },
  {
   "cell_type": "code",
   "execution_count": 17,
   "metadata": {},
   "outputs": [
    {
     "name": "stdout",
     "output_type": "stream",
     "text": [
      "The closing price for AGG was $117.31\n"
     ]
    }
   ],
   "source": [
    "# Access the closing price for AGG from the Alpaca DataFrame\n",
    "# Converting the value to a floating point number\n",
    "agg_close_price = float(portfolio_prices_df['AGG']['close'])\n",
    "\n",
    "# Print the AGG closing price\n",
    "print(f\"The closing price for AGG was ${agg_close_price:0.2f}\")\n"
   ]
  },
  {
   "cell_type": "code",
   "execution_count": 18,
   "metadata": {},
   "outputs": [
    {
     "name": "stdout",
     "output_type": "stream",
     "text": [
      "The closing price for SPY was $344.63\n"
     ]
    }
   ],
   "source": [
    "# Access the closing price for SPY from the Alpaca DataFrame\n",
    "# Converting the value to a floating point number\n",
    "spy_close_price = float(portfolio_prices_df['SPY']['close'])\n",
    "\n",
    "# Print the SPY closing price\n",
    "print(f\"The closing price for SPY was ${spy_close_price:0.2f}\")\n"
   ]
  },
  {
   "cell_type": "markdown",
   "metadata": {},
   "source": [
    "#### Step 6: Calculate the value, in US dollars, of the current amount of shares in each of the stock and bond portions of the portfolio, and print the results."
   ]
  },
  {
   "cell_type": "code",
   "execution_count": 19,
   "metadata": {},
   "outputs": [
    {
     "name": "stdout",
     "output_type": "stream",
     "text": [
      "The current value of the bond portfolio is $23462.00\n"
     ]
    }
   ],
   "source": [
    "# Calculate the current value of the bond portion of the portfolio\n",
    "agg_value = agg_close_price * agg_shares\n",
    "\n",
    "# Print the current value of the bond portfolio\n",
    "print(f\"The current value of the bond portfolio is ${agg_value:0.2f}\")\n"
   ]
  },
  {
   "cell_type": "code",
   "execution_count": 20,
   "metadata": {},
   "outputs": [
    {
     "name": "stdout",
     "output_type": "stream",
     "text": [
      "The current value of the stock portfolio is $37909.30\n"
     ]
    }
   ],
   "source": [
    "# Calculate the current value of the stock portion of the portfolio\n",
    "spy_value = spy_close_price * spy_shares\n",
    "\n",
    "# Print the current value of the stock portfolio\n",
    "print(f\"The current value of the stock portfolio is ${spy_value:0.2f}\")\n"
   ]
  },
  {
   "cell_type": "code",
   "execution_count": 21,
   "metadata": {},
   "outputs": [
    {
     "name": "stdout",
     "output_type": "stream",
     "text": [
      "The current value of the stock and bond portfolio is $61371.30\n"
     ]
    }
   ],
   "source": [
    "# Calculate the total value of the stock and bond portion of the portfolio\n",
    "total_stocks_bonds = agg_value + spy_value\n",
    "\n",
    "# Print the current balance of the stock and bond portion of the portfolio\n",
    "print(f\"The current value of the stock and bond portfolio is ${total_stocks_bonds:0.2f}\")\n"
   ]
  },
  {
   "cell_type": "code",
   "execution_count": 22,
   "metadata": {},
   "outputs": [
    {
     "name": "stdout",
     "output_type": "stream",
     "text": [
      "The current value of the total portfolio is $157673.13\n"
     ]
    }
   ],
   "source": [
    "# Calculate the total value of the member's entire savings portfolio\n",
    "# Add the value of the cryptocurrency walled to the value of the total stocks and bonds\n",
    "total_portfolio = total_crypto_wallet + total_stocks_bonds\n",
    "\n",
    "# Print current cryptocurrency wallet balance\n",
    "print(f\"The current value of the total portfolio is ${total_portfolio:0.2f}\")\n"
   ]
  },
  {
   "cell_type": "markdown",
   "metadata": {},
   "source": [
    "### Evaluate the Emergency Fund\n",
    "\n",
    "In this section, you’ll use the valuations for the cryptocurrency wallet and for the stock and bond portions of the portfolio to determine if the credit union member has enough savings to build an emergency fund into their financial plan. To do this, complete the following steps:\n",
    "\n",
    "1. Create a Python list named `savings_data` that has two elements. The first element contains the total value of the cryptocurrency wallet. The second element contains the total value of the stock and bond portions of the portfolio.\n",
    "\n",
    "2. Use the `savings_data` list to create a Pandas DataFrame named `savings_df`, and then display this DataFrame. The function to create the DataFrame should take the following three parameters:\n",
    "\n",
    "    - `savings_data`: Use the list that you just created.\n",
    "\n",
    "    - `columns`: Set this parameter equal to a Python list with a single value called `amount`.\n",
    "\n",
    "    - `index`: Set this parameter equal to a Python list with the values of `crypto` and `stock/bond`.\n",
    "\n",
    "3. Use the `savings_df` DataFrame to plot a pie chart that visualizes the composition of the member’s portfolio. The y-axis of the pie chart uses `amount`. Be sure to add a title.\n",
    "\n",
    "4. Using Python, determine if the current portfolio has enough to create an emergency fund as part of the member’s financial plan. Ideally, an emergency fund should equal to three times the member’s monthly income. To do this, implement the following steps:\n",
    "\n",
    "    1. Create a variable named `emergency_fund_value`, and set it equal to three times the value of the member’s `monthly_income` of $12000. (You set this earlier in Part 1).\n",
    "\n",
    "    2. Create a series of three if statements to determine if the member’s total portfolio is large enough to fund the emergency portfolio:\n",
    "\n",
    "        1. If the total portfolio value is greater than the emergency fund value, display a message congratulating the member for having enough money in this fund.\n",
    "\n",
    "        2. Else if the total portfolio value is equal to the emergency fund value, display a message congratulating the member on reaching this important financial goal.\n",
    "\n",
    "        3. Else the total portfolio is less than the emergency fund value, so display a message showing how many dollars away the member is from reaching the goal. (Subtract the total portfolio value from the emergency fund value.)\n"
   ]
  },
  {
   "cell_type": "markdown",
   "metadata": {},
   "source": [
    "#### Step 1: Create a Python list named `savings_data` that has two elements. The first element contains the total value of the cryptocurrency wallet. The second element contains the total value of the stock and bond portions of the portfolio."
   ]
  },
  {
   "cell_type": "code",
   "execution_count": 23,
   "metadata": {},
   "outputs": [
    {
     "data": {
      "text/plain": [
       "{'amount': [96301.83099999999, 61371.3]}"
      ]
     },
     "execution_count": 23,
     "metadata": {},
     "output_type": "execute_result"
    }
   ],
   "source": [
    "# Consolidate financial assets data into a Python list\n",
    "savings_data = {\n",
    "    \"amount\": [total_crypto_wallet, total_stocks_bonds]\n",
    "}\n",
    "\n",
    "# Review the Python list savings_data\n",
    "savings_data\n",
    "    "
   ]
  },
  {
   "cell_type": "markdown",
   "metadata": {},
   "source": [
    "#### Step 2: Use the `savings_data` list to create a Pandas DataFrame named `savings_df`, and then display this DataFrame. The function to create the DataFrame should take the following three parameters:\n",
    "\n",
    "- `savings_data`: Use the list that you just created.\n",
    "\n",
    "- `columns`: Set this parameter equal to a Python list with a single value called `amount`.\n",
    "\n",
    "- `index`: Set this parameter equal to a Python list with the values of `crypto` and `stock/bond`.\n"
   ]
  },
  {
   "cell_type": "code",
   "execution_count": 24,
   "metadata": {},
   "outputs": [
    {
     "data": {
      "text/html": [
       "<div>\n",
       "<style scoped>\n",
       "    .dataframe tbody tr th:only-of-type {\n",
       "        vertical-align: middle;\n",
       "    }\n",
       "\n",
       "    .dataframe tbody tr th {\n",
       "        vertical-align: top;\n",
       "    }\n",
       "\n",
       "    .dataframe thead th {\n",
       "        text-align: right;\n",
       "    }\n",
       "</style>\n",
       "<table border=\"1\" class=\"dataframe\">\n",
       "  <thead>\n",
       "    <tr style=\"text-align: right;\">\n",
       "      <th></th>\n",
       "      <th>amount</th>\n",
       "    </tr>\n",
       "  </thead>\n",
       "  <tbody>\n",
       "    <tr>\n",
       "      <th>crypto</th>\n",
       "      <td>96301.831</td>\n",
       "    </tr>\n",
       "    <tr>\n",
       "      <th>stock/bond</th>\n",
       "      <td>61371.300</td>\n",
       "    </tr>\n",
       "  </tbody>\n",
       "</table>\n",
       "</div>"
      ],
      "text/plain": [
       "               amount\n",
       "crypto      96301.831\n",
       "stock/bond  61371.300"
      ]
     },
     "execution_count": 24,
     "metadata": {},
     "output_type": "execute_result"
    }
   ],
   "source": [
    "# Create a Pandas DataFrame called savings_df \n",
    "savings_df = pd.DataFrame(savings_data, index=['crypto', 'stock/bond'])\n",
    "\n",
    "\n",
    "# Display the savings_df DataFrame\n",
    "savings_df\n"
   ]
  },
  {
   "cell_type": "markdown",
   "metadata": {},
   "source": [
    "#### Step 3: Use the `savings_df` DataFrame to plot a pie chart that visualizes the composition of the member’s portfolio. The y-axis of the pie chart uses `amount`. Be sure to add a title."
   ]
  },
  {
   "cell_type": "code",
   "execution_count": 25,
   "metadata": {},
   "outputs": [
    {
     "data": {
      "text/plain": [
       "<AxesSubplot:title={'center':'Portfolio Composition - 2020-10-22'}, ylabel='amount'>"
      ]
     },
     "execution_count": 25,
     "metadata": {},
     "output_type": "execute_result"
    },
    {
     "data": {
      "image/png": "[encoded data removed]",
      "text/plain": [
       "<Figure size 432x288 with 1 Axes>"
      ]
     },
     "metadata": {},
     "output_type": "display_data"
    }
   ],
   "source": [
    "# Plot the total value of the member's portfolio (crypto and stock/bond) in a pie chart\n",
    "savings_df.plot.pie(y='amount', title='Portfolio Composition - 2020-10-22')\n"
   ]
  },
  {
   "cell_type": "markdown",
   "metadata": {},
   "source": [
    "#### Step 4: Using Python, determine if the current portfolio has enough to create an emergency fund as part of the member’s financial plan. Ideally, an emergency fund should equal to three times the member’s monthly income. To do this, implement the following steps:\n",
    "\n",
    "Step 1. Create a variable named `emergency_fund_value`, and set it equal to three times the value of the member’s `monthly_income` of 12000. (You set this earlier in Part 1).\n",
    "\n",
    "Step 2. Create a series of three if statements to determine if the member’s total portfolio is large enough to fund the emergency portfolio:\n",
    "\n",
    "* If the total portfolio value is greater than the emergency fund value, display a message congratulating the member for having enough money in this fund.\n",
    "\n",
    "* Else if the total portfolio value is equal to the emergency fund value, display a message congratulating the member on reaching this important financial goal.\n",
    "\n",
    "* Else the total portfolio is less than the emergency fund value, so display a message showing how many dollars away the member is from reaching the goal. (Subtract the total portfolio value from the emergency fund value.)\n"
   ]
  },
  {
   "cell_type": "markdown",
   "metadata": {},
   "source": [
    "##### Step 4-1: Create a variable named `emergency_fund_value`, and set it equal to three times the value of the member’s `monthly_income` of 12000. (You set this earlier in Part 1)."
   ]
  },
  {
   "cell_type": "code",
   "execution_count": 26,
   "metadata": {},
   "outputs": [],
   "source": [
    "# Create a variable named emergency_fund_value\n",
    "emergency_fund_value = monthly_income * 3\n"
   ]
  },
  {
   "cell_type": "markdown",
   "metadata": {},
   "source": [
    "##### Step 4-2: Create a series of three if statements to determine if the member’s total portfolio is large enough to fund the emergency portfolio:\n",
    "\n",
    "* If the total portfolio value is greater than the emergency fund value, display a message congratulating the member for having enough money in this fund.\n",
    "\n",
    "* Else if the total portfolio value is equal to the emergency fund value, display a message congratulating the member on reaching this important financial goal.\n",
    "\n",
    "* Else the total portfolio is less than the emergency fund value, so display a message showing how many dollars away the member is from reaching the goal. (Subtract the total portfolio value from the emergency fund value.)"
   ]
  },
  {
   "cell_type": "code",
   "execution_count": 27,
   "metadata": {},
   "outputs": [
    {
     "name": "stdout",
     "output_type": "stream",
     "text": [
      "Congragulations you have enough money to fund the emergency portfolio!\n"
     ]
    }
   ],
   "source": [
    "# Evaluate the possibility of creating an emergency fund with 3 conditions:\n",
    "if total_portfolio > emergency_fund_value:\n",
    "    print(\"Congragulations you have enough money to fund the emergency portfolio!\")\n",
    "elif total_portfolio == emergency_fund_value:\n",
    "    print(\"Congragulations your portfolio is equal to the emergency fund value! This is an important financial goal you have achieved!\")\n",
    "else:\n",
    "    print(f\"You are ${emergency_fund_value - total_portfolio:0.2f} away from the emergency fund value\")\n",
    "\n"
   ]
  },
  {
   "cell_type": "markdown",
   "metadata": {},
   "source": [
    "## Part 2: Create a Financial Planner for Retirement"
   ]
  },
  {
   "cell_type": "markdown",
   "metadata": {},
   "source": [
    "### Create the Monte Carlo Simulation\n",
    "\n",
    "In this section, you’ll use the MCForecastTools library to create a Monte Carlo simulation for the member’s savings portfolio. To do this, complete the following steps:\n",
    "\n",
    "1. Make an API call via the Alpaca SDK to get 3 years of historical closing prices for a traditional 60/40 portfolio split: 60% stocks (SPY) and 40% bonds (AGG).\n",
    "\n",
    "2. Run a Monte Carlo simulation of 500 samples and 30 years for the 60/40 portfolio, and then plot the results.The following image shows the overlay line plot resulting from a simulation with these characteristics. However, because a random number generator is used to run each live Monte Carlo simulation, your image will differ slightly from this exact image:\n",
    "\n",
    "![A screenshot depicts the resulting plot.](Images/5-4-monte-carlo-line-plot.png)\n",
    "\n",
    "3. Plot the probability distribution of the Monte Carlo simulation. Plot the probability distribution of the Monte Carlo simulation. The following image shows the histogram plot resulting from a simulation with these characteristics. However, because a random number generator is used to run each live Monte Carlo simulation, your image will differ slightly from this exact image:\n",
    "\n",
    "![A screenshot depicts the histogram plot.](Images/5-4-monte-carlo-histogram.png)\n",
    "\n",
    "4. Generate the summary statistics for the Monte Carlo simulation.\n",
    "\n"
   ]
  },
  {
   "cell_type": "markdown",
   "metadata": {},
   "source": [
    "#### Step 1: Make an API call via the Alpaca SDK to get 3 years of historical closing prices for a traditional 60/40 portfolio split: 60% stocks (SPY) and 40% bonds (AGG)."
   ]
  },
  {
   "cell_type": "code",
   "execution_count": 38,
   "metadata": {},
   "outputs": [],
   "source": [
    "# Set start and end dates of 3 years back from your current date\n",
    "# Alternatively, you can use an end date of 2020-08-07 and work 3 years back from that date \n",
    "start_date_mc = pd.Timestamp(\"2017-10-22\", tz=\"America/New_York\").isoformat()\n",
    "end_date_mc = pd.Timestamp(\"2020-10-22\", tz=\"America/New_York\").isoformat()\n",
    "\n",
    "# Set number of rows to 1000 to retrieve the maximum amount of rows\n",
    "limit_rows = 1000"
   ]
  },
  {
   "cell_type": "code",
   "execution_count": 39,
   "metadata": {},
   "outputs": [
    {
     "data": {
      "text/html": [
       "<div>\n",
       "<style scoped>\n",
       "    .dataframe tbody tr th:only-of-type {\n",
       "        vertical-align: middle;\n",
       "    }\n",
       "\n",
       "    .dataframe tbody tr th {\n",
       "        vertical-align: top;\n",
       "    }\n",
       "\n",
       "    .dataframe thead tr th {\n",
       "        text-align: left;\n",
       "    }\n",
       "\n",
       "    .dataframe thead tr:last-of-type th {\n",
       "        text-align: right;\n",
       "    }\n",
       "</style>\n",
       "<table border=\"1\" class=\"dataframe\">\n",
       "  <thead>\n",
       "    <tr>\n",
       "      <th></th>\n",
       "      <th colspan=\"5\" halign=\"left\">AGG</th>\n",
       "      <th colspan=\"5\" halign=\"left\">SPY</th>\n",
       "    </tr>\n",
       "    <tr>\n",
       "      <th></th>\n",
       "      <th>open</th>\n",
       "      <th>high</th>\n",
       "      <th>low</th>\n",
       "      <th>close</th>\n",
       "      <th>volume</th>\n",
       "      <th>open</th>\n",
       "      <th>high</th>\n",
       "      <th>low</th>\n",
       "      <th>close</th>\n",
       "      <th>volume</th>\n",
       "    </tr>\n",
       "    <tr>\n",
       "      <th>time</th>\n",
       "      <th></th>\n",
       "      <th></th>\n",
       "      <th></th>\n",
       "      <th></th>\n",
       "      <th></th>\n",
       "      <th></th>\n",
       "      <th></th>\n",
       "      <th></th>\n",
       "      <th></th>\n",
       "      <th></th>\n",
       "    </tr>\n",
       "  </thead>\n",
       "  <tbody>\n",
       "    <tr>\n",
       "      <th>2020-06-03 00:00:00-04:00</th>\n",
       "      <td>117.26</td>\n",
       "      <td>117.4100</td>\n",
       "      <td>117.0600</td>\n",
       "      <td>117.16</td>\n",
       "      <td>11554888</td>\n",
       "      <td>310.24</td>\n",
       "      <td>313.2200</td>\n",
       "      <td>309.94</td>\n",
       "      <td>312.2117</td>\n",
       "      <td>157657617</td>\n",
       "    </tr>\n",
       "    <tr>\n",
       "      <th>2020-06-04 00:00:00-04:00</th>\n",
       "      <td>117.27</td>\n",
       "      <td>117.3000</td>\n",
       "      <td>116.8200</td>\n",
       "      <td>116.86</td>\n",
       "      <td>9562346</td>\n",
       "      <td>311.11</td>\n",
       "      <td>313.0000</td>\n",
       "      <td>309.08</td>\n",
       "      <td>311.3100</td>\n",
       "      <td>136433327</td>\n",
       "    </tr>\n",
       "    <tr>\n",
       "      <th>2020-06-05 00:00:00-04:00</th>\n",
       "      <td>116.75</td>\n",
       "      <td>116.9100</td>\n",
       "      <td>116.4800</td>\n",
       "      <td>116.89</td>\n",
       "      <td>9025378</td>\n",
       "      <td>317.23</td>\n",
       "      <td>321.2750</td>\n",
       "      <td>317.16</td>\n",
       "      <td>319.2700</td>\n",
       "      <td>245127534</td>\n",
       "    </tr>\n",
       "    <tr>\n",
       "      <th>2020-06-08 00:00:00-04:00</th>\n",
       "      <td>116.81</td>\n",
       "      <td>117.1092</td>\n",
       "      <td>116.7501</td>\n",
       "      <td>117.02</td>\n",
       "      <td>15737748</td>\n",
       "      <td>320.22</td>\n",
       "      <td>323.4100</td>\n",
       "      <td>319.63</td>\n",
       "      <td>323.2500</td>\n",
       "      <td>128886698</td>\n",
       "    </tr>\n",
       "    <tr>\n",
       "      <th>2020-06-09 00:00:00-04:00</th>\n",
       "      <td>117.31</td>\n",
       "      <td>117.3300</td>\n",
       "      <td>117.1900</td>\n",
       "      <td>117.19</td>\n",
       "      <td>10803958</td>\n",
       "      <td>320.30</td>\n",
       "      <td>323.2849</td>\n",
       "      <td>319.36</td>\n",
       "      <td>320.8100</td>\n",
       "      <td>135203810</td>\n",
       "    </tr>\n",
       "  </tbody>\n",
       "</table>\n",
       "</div>"
      ],
      "text/plain": [
       "                              AGG                                        \\\n",
       "                             open      high       low   close    volume   \n",
       "time                                                                      \n",
       "2020-06-03 00:00:00-04:00  117.26  117.4100  117.0600  117.16  11554888   \n",
       "2020-06-04 00:00:00-04:00  117.27  117.3000  116.8200  116.86   9562346   \n",
       "2020-06-05 00:00:00-04:00  116.75  116.9100  116.4800  116.89   9025378   \n",
       "2020-06-08 00:00:00-04:00  116.81  117.1092  116.7501  117.02  15737748   \n",
       "2020-06-09 00:00:00-04:00  117.31  117.3300  117.1900  117.19  10803958   \n",
       "\n",
       "                              SPY                                         \n",
       "                             open      high     low     close     volume  \n",
       "time                                                                      \n",
       "2020-06-03 00:00:00-04:00  310.24  313.2200  309.94  312.2117  157657617  \n",
       "2020-06-04 00:00:00-04:00  311.11  313.0000  309.08  311.3100  136433327  \n",
       "2020-06-05 00:00:00-04:00  317.23  321.2750  317.16  319.2700  245127534  \n",
       "2020-06-08 00:00:00-04:00  320.22  323.4100  319.63  323.2500  128886698  \n",
       "2020-06-09 00:00:00-04:00  320.30  323.2849  319.36  320.8100  135203810  "
      ]
     },
     "metadata": {},
     "output_type": "display_data"
    },
    {
     "data": {
      "text/html": [
       "<div>\n",
       "<style scoped>\n",
       "    .dataframe tbody tr th:only-of-type {\n",
       "        vertical-align: middle;\n",
       "    }\n",
       "\n",
       "    .dataframe tbody tr th {\n",
       "        vertical-align: top;\n",
       "    }\n",
       "\n",
       "    .dataframe thead tr th {\n",
       "        text-align: left;\n",
       "    }\n",
       "\n",
       "    .dataframe thead tr:last-of-type th {\n",
       "        text-align: right;\n",
       "    }\n",
       "</style>\n",
       "<table border=\"1\" class=\"dataframe\">\n",
       "  <thead>\n",
       "    <tr>\n",
       "      <th></th>\n",
       "      <th colspan=\"5\" halign=\"left\">AGG</th>\n",
       "      <th colspan=\"5\" halign=\"left\">SPY</th>\n",
       "    </tr>\n",
       "    <tr>\n",
       "      <th></th>\n",
       "      <th>open</th>\n",
       "      <th>high</th>\n",
       "      <th>low</th>\n",
       "      <th>close</th>\n",
       "      <th>volume</th>\n",
       "      <th>open</th>\n",
       "      <th>high</th>\n",
       "      <th>low</th>\n",
       "      <th>close</th>\n",
       "      <th>volume</th>\n",
       "    </tr>\n",
       "    <tr>\n",
       "      <th>time</th>\n",
       "      <th></th>\n",
       "      <th></th>\n",
       "      <th></th>\n",
       "      <th></th>\n",
       "      <th></th>\n",
       "      <th></th>\n",
       "      <th></th>\n",
       "      <th></th>\n",
       "      <th></th>\n",
       "      <th></th>\n",
       "    </tr>\n",
       "  </thead>\n",
       "  <tbody>\n",
       "    <tr>\n",
       "      <th>2020-10-16 00:00:00-04:00</th>\n",
       "      <td>117.99</td>\n",
       "      <td>118.0778</td>\n",
       "      <td>117.88</td>\n",
       "      <td>117.880</td>\n",
       "      <td>3591541</td>\n",
       "      <td>348.96</td>\n",
       "      <td>350.75</td>\n",
       "      <td>347.10</td>\n",
       "      <td>347.25</td>\n",
       "      <td>62796942</td>\n",
       "    </tr>\n",
       "    <tr>\n",
       "      <th>2020-10-19 00:00:00-04:00</th>\n",
       "      <td>117.81</td>\n",
       "      <td>117.8700</td>\n",
       "      <td>117.72</td>\n",
       "      <td>117.787</td>\n",
       "      <td>4231106</td>\n",
       "      <td>348.62</td>\n",
       "      <td>349.33</td>\n",
       "      <td>341.04</td>\n",
       "      <td>342.02</td>\n",
       "      <td>54462156</td>\n",
       "    </tr>\n",
       "    <tr>\n",
       "      <th>2020-10-20 00:00:00-04:00</th>\n",
       "      <td>117.70</td>\n",
       "      <td>117.7100</td>\n",
       "      <td>117.58</td>\n",
       "      <td>117.640</td>\n",
       "      <td>3624855</td>\n",
       "      <td>343.46</td>\n",
       "      <td>346.88</td>\n",
       "      <td>342.64</td>\n",
       "      <td>343.34</td>\n",
       "      <td>48206853</td>\n",
       "    </tr>\n",
       "    <tr>\n",
       "      <th>2020-10-21 00:00:00-04:00</th>\n",
       "      <td>117.59</td>\n",
       "      <td>117.6400</td>\n",
       "      <td>117.48</td>\n",
       "      <td>117.515</td>\n",
       "      <td>2829309</td>\n",
       "      <td>343.33</td>\n",
       "      <td>345.67</td>\n",
       "      <td>342.45</td>\n",
       "      <td>342.69</td>\n",
       "      <td>43419032</td>\n",
       "    </tr>\n",
       "    <tr>\n",
       "      <th>2020-10-22 00:00:00-04:00</th>\n",
       "      <td>117.51</td>\n",
       "      <td>117.5400</td>\n",
       "      <td>117.30</td>\n",
       "      <td>117.310</td>\n",
       "      <td>3933253</td>\n",
       "      <td>342.96</td>\n",
       "      <td>345.24</td>\n",
       "      <td>340.65</td>\n",
       "      <td>344.63</td>\n",
       "      <td>45033179</td>\n",
       "    </tr>\n",
       "  </tbody>\n",
       "</table>\n",
       "</div>"
      ],
      "text/plain": [
       "                              AGG                                         SPY  \\\n",
       "                             open      high     low    close   volume    open   \n",
       "time                                                                            \n",
       "2020-10-16 00:00:00-04:00  117.99  118.0778  117.88  117.880  3591541  348.96   \n",
       "2020-10-19 00:00:00-04:00  117.81  117.8700  117.72  117.787  4231106  348.62   \n",
       "2020-10-20 00:00:00-04:00  117.70  117.7100  117.58  117.640  3624855  343.46   \n",
       "2020-10-21 00:00:00-04:00  117.59  117.6400  117.48  117.515  2829309  343.33   \n",
       "2020-10-22 00:00:00-04:00  117.51  117.5400  117.30  117.310  3933253  342.96   \n",
       "\n",
       "                                                             \n",
       "                             high     low   close    volume  \n",
       "time                                                         \n",
       "2020-10-16 00:00:00-04:00  350.75  347.10  347.25  62796942  \n",
       "2020-10-19 00:00:00-04:00  349.33  341.04  342.02  54462156  \n",
       "2020-10-20 00:00:00-04:00  346.88  342.64  343.34  48206853  \n",
       "2020-10-21 00:00:00-04:00  345.67  342.45  342.69  43419032  \n",
       "2020-10-22 00:00:00-04:00  345.24  340.65  344.63  45033179  "
      ]
     },
     "metadata": {},
     "output_type": "display_data"
    }
   ],
   "source": [
    "# Use the Alpaca get_barset function to make the API call to get the 3 years worth of pricing data\n",
    "# The tickers and timeframe parameters should have been set in Part 1 of this activity \n",
    "# The start and end dates should be updated with the information set above\n",
    "# Remember to add the df property to the end of the call so the response is returned as a DataFrame\n",
    "prices_df = alpaca.get_barset(\n",
    "    tickers,\n",
    "    timeframe,\n",
    "    start=start_date_mc,\n",
    "    end=end_date_mc,\n",
    ").df\n",
    "\n",
    "\n",
    "# Display both the first and last five rows of the DataFrame\n",
    "display(prices_df.head())\n",
    "display(prices_df.tail())\n"
   ]
  },
  {
   "cell_type": "markdown",
   "metadata": {},
   "source": [
    "#### Step 2: Run a Monte Carlo simulation of 500 samples and 30 years for the 60/40 portfolio, and then plot the results."
   ]
  },
  {
   "cell_type": "code",
   "execution_count": 40,
   "metadata": {},
   "outputs": [
    {
     "data": {
      "text/html": [
       "<div>\n",
       "<style scoped>\n",
       "    .dataframe tbody tr th:only-of-type {\n",
       "        vertical-align: middle;\n",
       "    }\n",
       "\n",
       "    .dataframe tbody tr th {\n",
       "        vertical-align: top;\n",
       "    }\n",
       "\n",
       "    .dataframe thead tr th {\n",
       "        text-align: left;\n",
       "    }\n",
       "\n",
       "    .dataframe thead tr:last-of-type th {\n",
       "        text-align: right;\n",
       "    }\n",
       "</style>\n",
       "<table border=\"1\" class=\"dataframe\">\n",
       "  <thead>\n",
       "    <tr>\n",
       "      <th></th>\n",
       "      <th colspan=\"6\" halign=\"left\">AGG</th>\n",
       "      <th colspan=\"6\" halign=\"left\">SPY</th>\n",
       "    </tr>\n",
       "    <tr>\n",
       "      <th></th>\n",
       "      <th>open</th>\n",
       "      <th>high</th>\n",
       "      <th>low</th>\n",
       "      <th>close</th>\n",
       "      <th>volume</th>\n",
       "      <th>daily_return</th>\n",
       "      <th>open</th>\n",
       "      <th>high</th>\n",
       "      <th>low</th>\n",
       "      <th>close</th>\n",
       "      <th>volume</th>\n",
       "      <th>daily_return</th>\n",
       "    </tr>\n",
       "    <tr>\n",
       "      <th>time</th>\n",
       "      <th></th>\n",
       "      <th></th>\n",
       "      <th></th>\n",
       "      <th></th>\n",
       "      <th></th>\n",
       "      <th></th>\n",
       "      <th></th>\n",
       "      <th></th>\n",
       "      <th></th>\n",
       "      <th></th>\n",
       "      <th></th>\n",
       "      <th></th>\n",
       "    </tr>\n",
       "  </thead>\n",
       "  <tbody>\n",
       "    <tr>\n",
       "      <th>2020-06-03 00:00:00-04:00</th>\n",
       "      <td>117.26</td>\n",
       "      <td>117.4100</td>\n",
       "      <td>117.0600</td>\n",
       "      <td>117.16</td>\n",
       "      <td>11554888</td>\n",
       "      <td>NaN</td>\n",
       "      <td>310.24</td>\n",
       "      <td>313.2200</td>\n",
       "      <td>309.94</td>\n",
       "      <td>312.2117</td>\n",
       "      <td>157657617</td>\n",
       "      <td>NaN</td>\n",
       "    </tr>\n",
       "    <tr>\n",
       "      <th>2020-06-04 00:00:00-04:00</th>\n",
       "      <td>117.27</td>\n",
       "      <td>117.3000</td>\n",
       "      <td>116.8200</td>\n",
       "      <td>116.86</td>\n",
       "      <td>9562346</td>\n",
       "      <td>-0.002561</td>\n",
       "      <td>311.11</td>\n",
       "      <td>313.0000</td>\n",
       "      <td>309.08</td>\n",
       "      <td>311.3100</td>\n",
       "      <td>136433327</td>\n",
       "      <td>-0.002888</td>\n",
       "    </tr>\n",
       "    <tr>\n",
       "      <th>2020-06-05 00:00:00-04:00</th>\n",
       "      <td>116.75</td>\n",
       "      <td>116.9100</td>\n",
       "      <td>116.4800</td>\n",
       "      <td>116.89</td>\n",
       "      <td>9025378</td>\n",
       "      <td>0.000257</td>\n",
       "      <td>317.23</td>\n",
       "      <td>321.2750</td>\n",
       "      <td>317.16</td>\n",
       "      <td>319.2700</td>\n",
       "      <td>245127534</td>\n",
       "      <td>0.025569</td>\n",
       "    </tr>\n",
       "    <tr>\n",
       "      <th>2020-06-08 00:00:00-04:00</th>\n",
       "      <td>116.81</td>\n",
       "      <td>117.1092</td>\n",
       "      <td>116.7501</td>\n",
       "      <td>117.02</td>\n",
       "      <td>15737748</td>\n",
       "      <td>0.001112</td>\n",
       "      <td>320.22</td>\n",
       "      <td>323.4100</td>\n",
       "      <td>319.63</td>\n",
       "      <td>323.2500</td>\n",
       "      <td>128886698</td>\n",
       "      <td>0.012466</td>\n",
       "    </tr>\n",
       "    <tr>\n",
       "      <th>2020-06-09 00:00:00-04:00</th>\n",
       "      <td>117.31</td>\n",
       "      <td>117.3300</td>\n",
       "      <td>117.1900</td>\n",
       "      <td>117.19</td>\n",
       "      <td>10803958</td>\n",
       "      <td>0.001453</td>\n",
       "      <td>320.30</td>\n",
       "      <td>323.2849</td>\n",
       "      <td>319.36</td>\n",
       "      <td>320.8100</td>\n",
       "      <td>135203810</td>\n",
       "      <td>-0.007548</td>\n",
       "    </tr>\n",
       "  </tbody>\n",
       "</table>\n",
       "</div>"
      ],
      "text/plain": [
       "                              AGG                                        \\\n",
       "                             open      high       low   close    volume   \n",
       "time                                                                      \n",
       "2020-06-03 00:00:00-04:00  117.26  117.4100  117.0600  117.16  11554888   \n",
       "2020-06-04 00:00:00-04:00  117.27  117.3000  116.8200  116.86   9562346   \n",
       "2020-06-05 00:00:00-04:00  116.75  116.9100  116.4800  116.89   9025378   \n",
       "2020-06-08 00:00:00-04:00  116.81  117.1092  116.7501  117.02  15737748   \n",
       "2020-06-09 00:00:00-04:00  117.31  117.3300  117.1900  117.19  10803958   \n",
       "\n",
       "                                           SPY                              \\\n",
       "                          daily_return    open      high     low     close   \n",
       "time                                                                         \n",
       "2020-06-03 00:00:00-04:00          NaN  310.24  313.2200  309.94  312.2117   \n",
       "2020-06-04 00:00:00-04:00    -0.002561  311.11  313.0000  309.08  311.3100   \n",
       "2020-06-05 00:00:00-04:00     0.000257  317.23  321.2750  317.16  319.2700   \n",
       "2020-06-08 00:00:00-04:00     0.001112  320.22  323.4100  319.63  323.2500   \n",
       "2020-06-09 00:00:00-04:00     0.001453  320.30  323.2849  319.36  320.8100   \n",
       "\n",
       "                                                   \n",
       "                              volume daily_return  \n",
       "time                                               \n",
       "2020-06-03 00:00:00-04:00  157657617          NaN  \n",
       "2020-06-04 00:00:00-04:00  136433327    -0.002888  \n",
       "2020-06-05 00:00:00-04:00  245127534     0.025569  \n",
       "2020-06-08 00:00:00-04:00  128886698     0.012466  \n",
       "2020-06-09 00:00:00-04:00  135203810    -0.007548  "
      ]
     },
     "execution_count": 40,
     "metadata": {},
     "output_type": "execute_result"
    }
   ],
   "source": [
    "# Configure the Monte Carlo simulation to forecast 30 years cumulative returns\n",
    "# The weights should be split 40% to AGG and 60% to SPY.\n",
    "# Run 500 samples.\n",
    "MC_spy = MCSimulation(\n",
    "    portfolio_data=prices_df,\n",
    "    weights = [.60,.40],\n",
    "    num_simulation = 500,\n",
    "    num_trading_days = 252 * 30)\n",
    "\n",
    "# Review the simulation input data\n",
    "MC_spy.portfolio_data.head()\n"
   ]
  },
  {
   "cell_type": "code",
   "execution_count": 42,
   "metadata": {},
   "outputs": [
    {
     "name": "stdout",
     "output_type": "stream",
     "text": [
      "Running Monte Carlo simulation number 0.\n",
      "Running Monte Carlo simulation number 10.\n",
      "Running Monte Carlo simulation number 20.\n",
      "Running Monte Carlo simulation number 30.\n",
      "Running Monte Carlo simulation number 40.\n",
      "Running Monte Carlo simulation number 50.\n",
      "Running Monte Carlo simulation number 60.\n",
      "Running Monte Carlo simulation number 70.\n",
      "Running Monte Carlo simulation number 80.\n",
      "Running Monte Carlo simulation number 90.\n",
      "Running Monte Carlo simulation number 100.\n",
      "Running Monte Carlo simulation number 110.\n",
      "Running Monte Carlo simulation number 120.\n",
      "Running Monte Carlo simulation number 130.\n",
      "Running Monte Carlo simulation number 140.\n",
      "Running Monte Carlo simulation number 150.\n",
      "Running Monte Carlo simulation number 160.\n",
      "Running Monte Carlo simulation number 170.\n",
      "Running Monte Carlo simulation number 180.\n",
      "Running Monte Carlo simulation number 190.\n",
      "Running Monte Carlo simulation number 200.\n",
      "Running Monte Carlo simulation number 210.\n",
      "Running Monte Carlo simulation number 220.\n",
      "Running Monte Carlo simulation number 230.\n",
      "Running Monte Carlo simulation number 240.\n",
      "Running Monte Carlo simulation number 250.\n",
      "Running Monte Carlo simulation number 260.\n",
      "Running Monte Carlo simulation number 270.\n",
      "Running Monte Carlo simulation number 280.\n",
      "Running Monte Carlo simulation number 290.\n",
      "Running Monte Carlo simulation number 300.\n",
      "Running Monte Carlo simulation number 310.\n",
      "Running Monte Carlo simulation number 320.\n",
      "Running Monte Carlo simulation number 330.\n",
      "Running Monte Carlo simulation number 340.\n",
      "Running Monte Carlo simulation number 350.\n",
      "Running Monte Carlo simulation number 360.\n",
      "Running Monte Carlo simulation number 370.\n",
      "Running Monte Carlo simulation number 380.\n",
      "Running Monte Carlo simulation number 390.\n",
      "Running Monte Carlo simulation number 400.\n",
      "Running Monte Carlo simulation number 410.\n",
      "Running Monte Carlo simulation number 420.\n",
      "Running Monte Carlo simulation number 430.\n",
      "Running Monte Carlo simulation number 440.\n",
      "Running Monte Carlo simulation number 450.\n",
      "Running Monte Carlo simulation number 460.\n",
      "Running Monte Carlo simulation number 470.\n",
      "Running Monte Carlo simulation number 480.\n",
      "Running Monte Carlo simulation number 490.\n"
     ]
    },
    {
     "data": {
      "text/html": [
       "<div>\n",
       "<style scoped>\n",
       "    .dataframe tbody tr th:only-of-type {\n",
       "        vertical-align: middle;\n",
       "    }\n",
       "\n",
       "    .dataframe tbody tr th {\n",
       "        vertical-align: top;\n",
       "    }\n",
       "\n",
       "    .dataframe thead th {\n",
       "        text-align: right;\n",
       "    }\n",
       "</style>\n",
       "<table border=\"1\" class=\"dataframe\">\n",
       "  <thead>\n",
       "    <tr style=\"text-align: right;\">\n",
       "      <th></th>\n",
       "      <th>0</th>\n",
       "      <th>1</th>\n",
       "      <th>2</th>\n",
       "      <th>3</th>\n",
       "      <th>4</th>\n",
       "      <th>5</th>\n",
       "      <th>6</th>\n",
       "      <th>7</th>\n",
       "      <th>8</th>\n",
       "      <th>9</th>\n",
       "      <th>...</th>\n",
       "      <th>490</th>\n",
       "      <th>491</th>\n",
       "      <th>492</th>\n",
       "      <th>493</th>\n",
       "      <th>494</th>\n",
       "      <th>495</th>\n",
       "      <th>496</th>\n",
       "      <th>497</th>\n",
       "      <th>498</th>\n",
       "      <th>499</th>\n",
       "    </tr>\n",
       "  </thead>\n",
       "  <tbody>\n",
       "    <tr>\n",
       "      <th>0</th>\n",
       "      <td>1.000000</td>\n",
       "      <td>1.000000</td>\n",
       "      <td>1.000000</td>\n",
       "      <td>1.000000</td>\n",
       "      <td>1.000000</td>\n",
       "      <td>1.000000</td>\n",
       "      <td>1.000000</td>\n",
       "      <td>1.000000</td>\n",
       "      <td>1.000000</td>\n",
       "      <td>1.000000</td>\n",
       "      <td>...</td>\n",
       "      <td>1.000000</td>\n",
       "      <td>1.000000</td>\n",
       "      <td>1.000000</td>\n",
       "      <td>1.000000</td>\n",
       "      <td>1.000000</td>\n",
       "      <td>1.000000</td>\n",
       "      <td>1.000000</td>\n",
       "      <td>1.000000</td>\n",
       "      <td>1.000000</td>\n",
       "      <td>1.000000</td>\n",
       "    </tr>\n",
       "    <tr>\n",
       "      <th>1</th>\n",
       "      <td>1.003010</td>\n",
       "      <td>1.003960</td>\n",
       "      <td>0.994648</td>\n",
       "      <td>1.004342</td>\n",
       "      <td>0.996219</td>\n",
       "      <td>0.999261</td>\n",
       "      <td>0.994880</td>\n",
       "      <td>0.998069</td>\n",
       "      <td>0.997175</td>\n",
       "      <td>0.995997</td>\n",
       "      <td>...</td>\n",
       "      <td>0.997303</td>\n",
       "      <td>1.010316</td>\n",
       "      <td>0.997269</td>\n",
       "      <td>0.998509</td>\n",
       "      <td>1.005195</td>\n",
       "      <td>1.005964</td>\n",
       "      <td>1.002113</td>\n",
       "      <td>0.993687</td>\n",
       "      <td>1.001833</td>\n",
       "      <td>0.999757</td>\n",
       "    </tr>\n",
       "    <tr>\n",
       "      <th>2</th>\n",
       "      <td>1.001911</td>\n",
       "      <td>1.002902</td>\n",
       "      <td>0.996061</td>\n",
       "      <td>1.000159</td>\n",
       "      <td>0.996644</td>\n",
       "      <td>1.006384</td>\n",
       "      <td>0.992326</td>\n",
       "      <td>1.005504</td>\n",
       "      <td>0.993592</td>\n",
       "      <td>0.991719</td>\n",
       "      <td>...</td>\n",
       "      <td>1.005494</td>\n",
       "      <td>1.017555</td>\n",
       "      <td>0.994196</td>\n",
       "      <td>0.994375</td>\n",
       "      <td>1.006414</td>\n",
       "      <td>1.003685</td>\n",
       "      <td>0.999532</td>\n",
       "      <td>1.002706</td>\n",
       "      <td>1.000635</td>\n",
       "      <td>0.992787</td>\n",
       "    </tr>\n",
       "    <tr>\n",
       "      <th>3</th>\n",
       "      <td>1.002948</td>\n",
       "      <td>1.006360</td>\n",
       "      <td>0.997547</td>\n",
       "      <td>1.001039</td>\n",
       "      <td>0.995673</td>\n",
       "      <td>1.003097</td>\n",
       "      <td>0.992303</td>\n",
       "      <td>1.006290</td>\n",
       "      <td>0.995987</td>\n",
       "      <td>0.986626</td>\n",
       "      <td>...</td>\n",
       "      <td>1.004067</td>\n",
       "      <td>1.012623</td>\n",
       "      <td>0.996874</td>\n",
       "      <td>0.991896</td>\n",
       "      <td>1.015989</td>\n",
       "      <td>1.001687</td>\n",
       "      <td>0.986482</td>\n",
       "      <td>0.994719</td>\n",
       "      <td>0.998976</td>\n",
       "      <td>0.985416</td>\n",
       "    </tr>\n",
       "    <tr>\n",
       "      <th>4</th>\n",
       "      <td>1.005476</td>\n",
       "      <td>1.011253</td>\n",
       "      <td>0.993496</td>\n",
       "      <td>0.994381</td>\n",
       "      <td>0.992975</td>\n",
       "      <td>1.002543</td>\n",
       "      <td>0.987354</td>\n",
       "      <td>1.014017</td>\n",
       "      <td>1.001878</td>\n",
       "      <td>0.995088</td>\n",
       "      <td>...</td>\n",
       "      <td>0.995038</td>\n",
       "      <td>1.010863</td>\n",
       "      <td>0.994980</td>\n",
       "      <td>0.988066</td>\n",
       "      <td>1.017649</td>\n",
       "      <td>1.006457</td>\n",
       "      <td>0.976054</td>\n",
       "      <td>0.996534</td>\n",
       "      <td>0.995531</td>\n",
       "      <td>0.988501</td>\n",
       "    </tr>\n",
       "    <tr>\n",
       "      <th>...</th>\n",
       "      <td>...</td>\n",
       "      <td>...</td>\n",
       "      <td>...</td>\n",
       "      <td>...</td>\n",
       "      <td>...</td>\n",
       "      <td>...</td>\n",
       "      <td>...</td>\n",
       "      <td>...</td>\n",
       "      <td>...</td>\n",
       "      <td>...</td>\n",
       "      <td>...</td>\n",
       "      <td>...</td>\n",
       "      <td>...</td>\n",
       "      <td>...</td>\n",
       "      <td>...</td>\n",
       "      <td>...</td>\n",
       "      <td>...</td>\n",
       "      <td>...</td>\n",
       "      <td>...</td>\n",
       "      <td>...</td>\n",
       "      <td>...</td>\n",
       "    </tr>\n",
       "    <tr>\n",
       "      <th>7556</th>\n",
       "      <td>17.600601</td>\n",
       "      <td>35.550974</td>\n",
       "      <td>12.419235</td>\n",
       "      <td>30.678717</td>\n",
       "      <td>33.503027</td>\n",
       "      <td>31.342071</td>\n",
       "      <td>18.870125</td>\n",
       "      <td>36.640907</td>\n",
       "      <td>13.134290</td>\n",
       "      <td>12.744199</td>\n",
       "      <td>...</td>\n",
       "      <td>43.247905</td>\n",
       "      <td>23.301684</td>\n",
       "      <td>20.655483</td>\n",
       "      <td>21.646454</td>\n",
       "      <td>34.034832</td>\n",
       "      <td>53.167543</td>\n",
       "      <td>19.701111</td>\n",
       "      <td>20.893573</td>\n",
       "      <td>19.786946</td>\n",
       "      <td>29.583440</td>\n",
       "    </tr>\n",
       "    <tr>\n",
       "      <th>7557</th>\n",
       "      <td>17.608617</td>\n",
       "      <td>35.541021</td>\n",
       "      <td>12.444914</td>\n",
       "      <td>30.743287</td>\n",
       "      <td>33.536427</td>\n",
       "      <td>31.500985</td>\n",
       "      <td>18.874337</td>\n",
       "      <td>36.844336</td>\n",
       "      <td>13.119456</td>\n",
       "      <td>12.773888</td>\n",
       "      <td>...</td>\n",
       "      <td>43.756850</td>\n",
       "      <td>23.155309</td>\n",
       "      <td>20.687605</td>\n",
       "      <td>21.613859</td>\n",
       "      <td>33.667624</td>\n",
       "      <td>52.855422</td>\n",
       "      <td>19.659372</td>\n",
       "      <td>20.892570</td>\n",
       "      <td>19.754082</td>\n",
       "      <td>29.321853</td>\n",
       "    </tr>\n",
       "    <tr>\n",
       "      <th>7558</th>\n",
       "      <td>17.586284</td>\n",
       "      <td>35.466660</td>\n",
       "      <td>12.453239</td>\n",
       "      <td>30.438472</td>\n",
       "      <td>33.533816</td>\n",
       "      <td>31.761643</td>\n",
       "      <td>18.922302</td>\n",
       "      <td>36.762824</td>\n",
       "      <td>13.066948</td>\n",
       "      <td>12.932417</td>\n",
       "      <td>...</td>\n",
       "      <td>44.073480</td>\n",
       "      <td>23.091645</td>\n",
       "      <td>20.591953</td>\n",
       "      <td>21.644510</td>\n",
       "      <td>33.762208</td>\n",
       "      <td>52.450377</td>\n",
       "      <td>19.803899</td>\n",
       "      <td>20.846654</td>\n",
       "      <td>19.890948</td>\n",
       "      <td>29.084712</td>\n",
       "    </tr>\n",
       "    <tr>\n",
       "      <th>7559</th>\n",
       "      <td>17.505669</td>\n",
       "      <td>35.329954</td>\n",
       "      <td>12.493043</td>\n",
       "      <td>30.378710</td>\n",
       "      <td>33.326073</td>\n",
       "      <td>31.452282</td>\n",
       "      <td>18.992330</td>\n",
       "      <td>36.852509</td>\n",
       "      <td>13.117043</td>\n",
       "      <td>12.841335</td>\n",
       "      <td>...</td>\n",
       "      <td>44.410706</td>\n",
       "      <td>23.031229</td>\n",
       "      <td>20.690056</td>\n",
       "      <td>21.494494</td>\n",
       "      <td>33.779062</td>\n",
       "      <td>52.307446</td>\n",
       "      <td>19.965062</td>\n",
       "      <td>20.852745</td>\n",
       "      <td>19.932281</td>\n",
       "      <td>28.821633</td>\n",
       "    </tr>\n",
       "    <tr>\n",
       "      <th>7560</th>\n",
       "      <td>17.415350</td>\n",
       "      <td>35.180841</td>\n",
       "      <td>12.480772</td>\n",
       "      <td>30.519393</td>\n",
       "      <td>33.395913</td>\n",
       "      <td>31.430546</td>\n",
       "      <td>18.985303</td>\n",
       "      <td>36.675805</td>\n",
       "      <td>13.113344</td>\n",
       "      <td>12.760553</td>\n",
       "      <td>...</td>\n",
       "      <td>44.224032</td>\n",
       "      <td>22.985093</td>\n",
       "      <td>20.577611</td>\n",
       "      <td>21.664906</td>\n",
       "      <td>33.869221</td>\n",
       "      <td>52.797921</td>\n",
       "      <td>19.960440</td>\n",
       "      <td>20.796512</td>\n",
       "      <td>20.071956</td>\n",
       "      <td>28.614934</td>\n",
       "    </tr>\n",
       "  </tbody>\n",
       "</table>\n",
       "<p>7561 rows × 500 columns</p>\n",
       "</div>"
      ],
      "text/plain": [
       "            0          1          2          3          4          5    \\\n",
       "0      1.000000   1.000000   1.000000   1.000000   1.000000   1.000000   \n",
       "1      1.003010   1.003960   0.994648   1.004342   0.996219   0.999261   \n",
       "2      1.001911   1.002902   0.996061   1.000159   0.996644   1.006384   \n",
       "3      1.002948   1.006360   0.997547   1.001039   0.995673   1.003097   \n",
       "4      1.005476   1.011253   0.993496   0.994381   0.992975   1.002543   \n",
       "...         ...        ...        ...        ...        ...        ...   \n",
       "7556  17.600601  35.550974  12.419235  30.678717  33.503027  31.342071   \n",
       "7557  17.608617  35.541021  12.444914  30.743287  33.536427  31.500985   \n",
       "7558  17.586284  35.466660  12.453239  30.438472  33.533816  31.761643   \n",
       "7559  17.505669  35.329954  12.493043  30.378710  33.326073  31.452282   \n",
       "7560  17.415350  35.180841  12.480772  30.519393  33.395913  31.430546   \n",
       "\n",
       "            6          7          8          9    ...        490        491  \\\n",
       "0      1.000000   1.000000   1.000000   1.000000  ...   1.000000   1.000000   \n",
       "1      0.994880   0.998069   0.997175   0.995997  ...   0.997303   1.010316   \n",
       "2      0.992326   1.005504   0.993592   0.991719  ...   1.005494   1.017555   \n",
       "3      0.992303   1.006290   0.995987   0.986626  ...   1.004067   1.012623   \n",
       "4      0.987354   1.014017   1.001878   0.995088  ...   0.995038   1.010863   \n",
       "...         ...        ...        ...        ...  ...        ...        ...   \n",
       "7556  18.870125  36.640907  13.134290  12.744199  ...  43.247905  23.301684   \n",
       "7557  18.874337  36.844336  13.119456  12.773888  ...  43.756850  23.155309   \n",
       "7558  18.922302  36.762824  13.066948  12.932417  ...  44.073480  23.091645   \n",
       "7559  18.992330  36.852509  13.117043  12.841335  ...  44.410706  23.031229   \n",
       "7560  18.985303  36.675805  13.113344  12.760553  ...  44.224032  22.985093   \n",
       "\n",
       "            492        493        494        495        496        497  \\\n",
       "0      1.000000   1.000000   1.000000   1.000000   1.000000   1.000000   \n",
       "1      0.997269   0.998509   1.005195   1.005964   1.002113   0.993687   \n",
       "2      0.994196   0.994375   1.006414   1.003685   0.999532   1.002706   \n",
       "3      0.996874   0.991896   1.015989   1.001687   0.986482   0.994719   \n",
       "4      0.994980   0.988066   1.017649   1.006457   0.976054   0.996534   \n",
       "...         ...        ...        ...        ...        ...        ...   \n",
       "7556  20.655483  21.646454  34.034832  53.167543  19.701111  20.893573   \n",
       "7557  20.687605  21.613859  33.667624  52.855422  19.659372  20.892570   \n",
       "7558  20.591953  21.644510  33.762208  52.450377  19.803899  20.846654   \n",
       "7559  20.690056  21.494494  33.779062  52.307446  19.965062  20.852745   \n",
       "7560  20.577611  21.664906  33.869221  52.797921  19.960440  20.796512   \n",
       "\n",
       "            498        499  \n",
       "0      1.000000   1.000000  \n",
       "1      1.001833   0.999757  \n",
       "2      1.000635   0.992787  \n",
       "3      0.998976   0.985416  \n",
       "4      0.995531   0.988501  \n",
       "...         ...        ...  \n",
       "7556  19.786946  29.583440  \n",
       "7557  19.754082  29.321853  \n",
       "7558  19.890948  29.084712  \n",
       "7559  19.932281  28.821633  \n",
       "7560  20.071956  28.614934  \n",
       "\n",
       "[7561 rows x 500 columns]"
      ]
     },
     "execution_count": 42,
     "metadata": {},
     "output_type": "execute_result"
    }
   ],
   "source": [
    "# Run the Monte Carlo simulation to forecast 30 years cumulative returns\n",
    "MC_spy.calc_cumulative_return()\n"
   ]
  },
  {
   "cell_type": "code",
   "execution_count": 45,
   "metadata": {},
   "outputs": [
    {
     "data": {
      "image/png": "[encoded data removed]",
      "text/plain": [
       "<Figure size 432x288 with 1 Axes>"
      ]
     },
     "metadata": {
      "needs_background": "light"
     },
     "output_type": "display_data"
    }
   ],
   "source": [
    "# Visualize the 30-year Monte Carlo simulation by creating an\n",
    "# overlay line plot\n",
    "spy_line_plot = MC_spy.plot_simulation()\n"
   ]
  },
  {
   "cell_type": "markdown",
   "metadata": {},
   "source": [
    "#### Step 3: Plot the probability distribution of the Monte Carlo simulation."
   ]
  },
  {
   "cell_type": "code",
   "execution_count": 48,
   "metadata": {},
   "outputs": [
    {
     "data": {
      "image/png": "[encoded data removed]",
      "text/plain": [
       "<Figure size 432x288 with 1 Axes>"
      ]
     },
     "metadata": {
      "needs_background": "light"
     },
     "output_type": "display_data"
    }
   ],
   "source": [
    "# Visualize the probability distribution of the 30-year Monte Carlo simulation \n",
    "# by plotting a histogram\n",
    "spy_dist_plot = MC_spy.plot_distribution()\n"
   ]
  },
  {
   "cell_type": "markdown",
   "metadata": {},
   "source": [
    "#### Step 4: Generate the summary statistics for the Monte Carlo simulation."
   ]
  },
  {
   "cell_type": "code",
   "execution_count": 50,
   "metadata": {},
   "outputs": [
    {
     "name": "stdout",
     "output_type": "stream",
     "text": [
      "count           500.000000\n",
      "mean             27.175199\n",
      "std              12.874779\n",
      "min               7.779199\n",
      "25%              17.712201\n",
      "50%              24.161606\n",
      "75%              34.968941\n",
      "max              91.583443\n",
      "95% CI Lower      9.875219\n",
      "95% CI Upper     57.282556\n",
      "Name: 7560, dtype: float64\n"
     ]
    }
   ],
   "source": [
    "# Generate summary statistics from the 30-year Monte Carlo simulation results\n",
    "# Save the results as a variable\n",
    "spy_table = MC_spy.summarize_cumulative_return()\n",
    "\n",
    "\n",
    "# Review the 30-year Monte Carlo summary statistics\n",
    "print(spy_table)"
   ]
  },
  {
   "cell_type": "markdown",
   "metadata": {},
   "source": [
    "### Analyze the Retirement Portfolio Forecasts\n",
    "\n",
    "Using the current value of only the stock and bond portion of the member's portfolio and the summary statistics that you generated from the Monte Carlo simulation, answer the following question in your Jupyter notebook:\n",
    "\n",
    "-  What are the lower and upper bounds for the expected value of the portfolio with a 95% confidence interval?\n"
   ]
  },
  {
   "cell_type": "code",
   "execution_count": 54,
   "metadata": {},
   "outputs": [
    {
     "name": "stdout",
     "output_type": "stream",
     "text": [
      "The current value of the stock and bond portions of the portfolio is $61371.30\n"
     ]
    }
   ],
   "source": [
    "# Print the current balance of the stock and bond portion of the members portfolio\n",
    "print(f\"The current value of the stock and bond portions of the portfolio is ${total_stocks_bonds:0.2f}\")\n"
   ]
  },
  {
   "cell_type": "code",
   "execution_count": 56,
   "metadata": {},
   "outputs": [
    {
     "name": "stdout",
     "output_type": "stream",
     "text": [
      "There is a 95% chance that with a 60% weight in SPY and 40% in AGG over the next 30 years will end within the range of $606055.02 and $3515504.95.\n"
     ]
    }
   ],
   "source": [
    "# Use the lower and upper `95%` confidence intervals to calculate the range of the possible outcomes for the current stock/bond portfolio\n",
    "ci_lower_thirty_cumulative_return = round(spy_table[8]*total_stocks_bonds,2)\n",
    "ci_upper_thirty_cumulative_return = round(spy_table[9]*total_stocks_bonds,2)\n",
    "\n",
    "# Print the result of your calculations\n",
    "print(f\"There is a 95% chance that with a 60% weight in SPY and 40% in AGG over the next 30 years will end within the range of\"\n",
    "      f\" ${ci_lower_thirty_cumulative_return} and ${ci_upper_thirty_cumulative_return}.\")\n"
   ]
  },
  {
   "cell_type": "markdown",
   "metadata": {},
   "source": [
    "### Forecast Cumulative Returns in 10 Years\n",
    "\n",
    "The CTO of the credit union is impressed with your work on these planning tools but wonders if 30 years is a long time to wait until retirement. So, your next task is to adjust the retirement portfolio and run a new Monte Carlo simulation to find out if the changes will allow members to retire earlier.\n",
    "\n",
    "For this new Monte Carlo simulation, do the following: \n",
    "\n",
    "- Forecast the cumulative returns for 10 years from now. Because of the shortened investment horizon (30 years to 10 years), the portfolio needs to invest more heavily in the riskier asset&mdash;that is, stock&mdash;to help accumulate wealth for retirement. \n",
    "\n",
    "- Adjust the weights of the retirement portfolio so that the composition for the Monte Carlo simulation consists of 20% bonds and 80% stocks. \n",
    "\n",
    "- Run the simulation over 500 samples, and use the same data that the API call to Alpaca generated.\n",
    "\n",
    "- Based on the new Monte Carlo simulation, answer the following questions in your Jupyter notebook:\n",
    "\n",
    "    - Using the current value of only the stock and bond portion of the member's portfolio and the summary statistics that you generated from the new Monte Carlo simulation, what are the lower and upper bounds for the expected value of the portfolio (with the new weights) with a 95% confidence interval?\n",
    "\n",
    "    - Will weighting the portfolio more heavily toward stocks allow the credit union members to retire after only 10 years?\n"
   ]
  },
  {
   "cell_type": "code",
   "execution_count": 57,
   "metadata": {},
   "outputs": [
    {
     "data": {
      "text/html": [
       "<div>\n",
       "<style scoped>\n",
       "    .dataframe tbody tr th:only-of-type {\n",
       "        vertical-align: middle;\n",
       "    }\n",
       "\n",
       "    .dataframe tbody tr th {\n",
       "        vertical-align: top;\n",
       "    }\n",
       "\n",
       "    .dataframe thead tr th {\n",
       "        text-align: left;\n",
       "    }\n",
       "\n",
       "    .dataframe thead tr:last-of-type th {\n",
       "        text-align: right;\n",
       "    }\n",
       "</style>\n",
       "<table border=\"1\" class=\"dataframe\">\n",
       "  <thead>\n",
       "    <tr>\n",
       "      <th></th>\n",
       "      <th colspan=\"6\" halign=\"left\">AGG</th>\n",
       "      <th colspan=\"6\" halign=\"left\">SPY</th>\n",
       "    </tr>\n",
       "    <tr>\n",
       "      <th></th>\n",
       "      <th>open</th>\n",
       "      <th>high</th>\n",
       "      <th>low</th>\n",
       "      <th>close</th>\n",
       "      <th>volume</th>\n",
       "      <th>daily_return</th>\n",
       "      <th>open</th>\n",
       "      <th>high</th>\n",
       "      <th>low</th>\n",
       "      <th>close</th>\n",
       "      <th>volume</th>\n",
       "      <th>daily_return</th>\n",
       "    </tr>\n",
       "    <tr>\n",
       "      <th>time</th>\n",
       "      <th></th>\n",
       "      <th></th>\n",
       "      <th></th>\n",
       "      <th></th>\n",
       "      <th></th>\n",
       "      <th></th>\n",
       "      <th></th>\n",
       "      <th></th>\n",
       "      <th></th>\n",
       "      <th></th>\n",
       "      <th></th>\n",
       "      <th></th>\n",
       "    </tr>\n",
       "  </thead>\n",
       "  <tbody>\n",
       "    <tr>\n",
       "      <th>2020-06-03 00:00:00-04:00</th>\n",
       "      <td>117.26</td>\n",
       "      <td>117.4100</td>\n",
       "      <td>117.0600</td>\n",
       "      <td>117.16</td>\n",
       "      <td>11554888</td>\n",
       "      <td>NaN</td>\n",
       "      <td>310.24</td>\n",
       "      <td>313.2200</td>\n",
       "      <td>309.94</td>\n",
       "      <td>312.2117</td>\n",
       "      <td>157657617</td>\n",
       "      <td>NaN</td>\n",
       "    </tr>\n",
       "    <tr>\n",
       "      <th>2020-06-04 00:00:00-04:00</th>\n",
       "      <td>117.27</td>\n",
       "      <td>117.3000</td>\n",
       "      <td>116.8200</td>\n",
       "      <td>116.86</td>\n",
       "      <td>9562346</td>\n",
       "      <td>-0.002561</td>\n",
       "      <td>311.11</td>\n",
       "      <td>313.0000</td>\n",
       "      <td>309.08</td>\n",
       "      <td>311.3100</td>\n",
       "      <td>136433327</td>\n",
       "      <td>-0.002888</td>\n",
       "    </tr>\n",
       "    <tr>\n",
       "      <th>2020-06-05 00:00:00-04:00</th>\n",
       "      <td>116.75</td>\n",
       "      <td>116.9100</td>\n",
       "      <td>116.4800</td>\n",
       "      <td>116.89</td>\n",
       "      <td>9025378</td>\n",
       "      <td>0.000257</td>\n",
       "      <td>317.23</td>\n",
       "      <td>321.2750</td>\n",
       "      <td>317.16</td>\n",
       "      <td>319.2700</td>\n",
       "      <td>245127534</td>\n",
       "      <td>0.025569</td>\n",
       "    </tr>\n",
       "    <tr>\n",
       "      <th>2020-06-08 00:00:00-04:00</th>\n",
       "      <td>116.81</td>\n",
       "      <td>117.1092</td>\n",
       "      <td>116.7501</td>\n",
       "      <td>117.02</td>\n",
       "      <td>15737748</td>\n",
       "      <td>0.001112</td>\n",
       "      <td>320.22</td>\n",
       "      <td>323.4100</td>\n",
       "      <td>319.63</td>\n",
       "      <td>323.2500</td>\n",
       "      <td>128886698</td>\n",
       "      <td>0.012466</td>\n",
       "    </tr>\n",
       "    <tr>\n",
       "      <th>2020-06-09 00:00:00-04:00</th>\n",
       "      <td>117.31</td>\n",
       "      <td>117.3300</td>\n",
       "      <td>117.1900</td>\n",
       "      <td>117.19</td>\n",
       "      <td>10803958</td>\n",
       "      <td>0.001453</td>\n",
       "      <td>320.30</td>\n",
       "      <td>323.2849</td>\n",
       "      <td>319.36</td>\n",
       "      <td>320.8100</td>\n",
       "      <td>135203810</td>\n",
       "      <td>-0.007548</td>\n",
       "    </tr>\n",
       "  </tbody>\n",
       "</table>\n",
       "</div>"
      ],
      "text/plain": [
       "                              AGG                                        \\\n",
       "                             open      high       low   close    volume   \n",
       "time                                                                      \n",
       "2020-06-03 00:00:00-04:00  117.26  117.4100  117.0600  117.16  11554888   \n",
       "2020-06-04 00:00:00-04:00  117.27  117.3000  116.8200  116.86   9562346   \n",
       "2020-06-05 00:00:00-04:00  116.75  116.9100  116.4800  116.89   9025378   \n",
       "2020-06-08 00:00:00-04:00  116.81  117.1092  116.7501  117.02  15737748   \n",
       "2020-06-09 00:00:00-04:00  117.31  117.3300  117.1900  117.19  10803958   \n",
       "\n",
       "                                           SPY                              \\\n",
       "                          daily_return    open      high     low     close   \n",
       "time                                                                         \n",
       "2020-06-03 00:00:00-04:00          NaN  310.24  313.2200  309.94  312.2117   \n",
       "2020-06-04 00:00:00-04:00    -0.002561  311.11  313.0000  309.08  311.3100   \n",
       "2020-06-05 00:00:00-04:00     0.000257  317.23  321.2750  317.16  319.2700   \n",
       "2020-06-08 00:00:00-04:00     0.001112  320.22  323.4100  319.63  323.2500   \n",
       "2020-06-09 00:00:00-04:00     0.001453  320.30  323.2849  319.36  320.8100   \n",
       "\n",
       "                                                   \n",
       "                              volume daily_return  \n",
       "time                                               \n",
       "2020-06-03 00:00:00-04:00  157657617          NaN  \n",
       "2020-06-04 00:00:00-04:00  136433327    -0.002888  \n",
       "2020-06-05 00:00:00-04:00  245127534     0.025569  \n",
       "2020-06-08 00:00:00-04:00  128886698     0.012466  \n",
       "2020-06-09 00:00:00-04:00  135203810    -0.007548  "
      ]
     },
     "execution_count": 57,
     "metadata": {},
     "output_type": "execute_result"
    }
   ],
   "source": [
    "# Configure a Monte Carlo simulation to forecast 10 years cumulative returns\n",
    "# The weights should be split 20% to AGG and 80% to SPY.\n",
    "# Run 500 samples.\n",
    "MC_spy_10 = MCSimulation(\n",
    "    portfolio_data=prices_df,\n",
    "    weights = [.80,.20],\n",
    "    num_simulation = 500,\n",
    "    num_trading_days = 252 * 10)\n",
    "\n",
    "# Review the simulation input data\n",
    "MC_spy_10.portfolio_data.head()\n"
   ]
  },
  {
   "cell_type": "code",
   "execution_count": 58,
   "metadata": {},
   "outputs": [
    {
     "name": "stdout",
     "output_type": "stream",
     "text": [
      "Running Monte Carlo simulation number 0.\n",
      "Running Monte Carlo simulation number 10.\n",
      "Running Monte Carlo simulation number 20.\n",
      "Running Monte Carlo simulation number 30.\n",
      "Running Monte Carlo simulation number 40.\n",
      "Running Monte Carlo simulation number 50.\n",
      "Running Monte Carlo simulation number 60.\n",
      "Running Monte Carlo simulation number 70.\n",
      "Running Monte Carlo simulation number 80.\n",
      "Running Monte Carlo simulation number 90.\n",
      "Running Monte Carlo simulation number 100.\n",
      "Running Monte Carlo simulation number 110.\n",
      "Running Monte Carlo simulation number 120.\n",
      "Running Monte Carlo simulation number 130.\n",
      "Running Monte Carlo simulation number 140.\n",
      "Running Monte Carlo simulation number 150.\n",
      "Running Monte Carlo simulation number 160.\n",
      "Running Monte Carlo simulation number 170.\n",
      "Running Monte Carlo simulation number 180.\n",
      "Running Monte Carlo simulation number 190.\n",
      "Running Monte Carlo simulation number 200.\n",
      "Running Monte Carlo simulation number 210.\n",
      "Running Monte Carlo simulation number 220.\n",
      "Running Monte Carlo simulation number 230.\n",
      "Running Monte Carlo simulation number 240.\n",
      "Running Monte Carlo simulation number 250.\n",
      "Running Monte Carlo simulation number 260.\n",
      "Running Monte Carlo simulation number 270.\n",
      "Running Monte Carlo simulation number 280.\n",
      "Running Monte Carlo simulation number 290.\n",
      "Running Monte Carlo simulation number 300.\n",
      "Running Monte Carlo simulation number 310.\n",
      "Running Monte Carlo simulation number 320.\n",
      "Running Monte Carlo simulation number 330.\n",
      "Running Monte Carlo simulation number 340.\n",
      "Running Monte Carlo simulation number 350.\n",
      "Running Monte Carlo simulation number 360.\n",
      "Running Monte Carlo simulation number 370.\n",
      "Running Monte Carlo simulation number 380.\n",
      "Running Monte Carlo simulation number 390.\n",
      "Running Monte Carlo simulation number 400.\n",
      "Running Monte Carlo simulation number 410.\n",
      "Running Monte Carlo simulation number 420.\n",
      "Running Monte Carlo simulation number 430.\n",
      "Running Monte Carlo simulation number 440.\n",
      "Running Monte Carlo simulation number 450.\n",
      "Running Monte Carlo simulation number 460.\n",
      "Running Monte Carlo simulation number 470.\n",
      "Running Monte Carlo simulation number 480.\n",
      "Running Monte Carlo simulation number 490.\n"
     ]
    },
    {
     "data": {
      "text/html": [
       "<div>\n",
       "<style scoped>\n",
       "    .dataframe tbody tr th:only-of-type {\n",
       "        vertical-align: middle;\n",
       "    }\n",
       "\n",
       "    .dataframe tbody tr th {\n",
       "        vertical-align: top;\n",
       "    }\n",
       "\n",
       "    .dataframe thead th {\n",
       "        text-align: right;\n",
       "    }\n",
       "</style>\n",
       "<table border=\"1\" class=\"dataframe\">\n",
       "  <thead>\n",
       "    <tr style=\"text-align: right;\">\n",
       "      <th></th>\n",
       "      <th>0</th>\n",
       "      <th>1</th>\n",
       "      <th>2</th>\n",
       "      <th>3</th>\n",
       "      <th>4</th>\n",
       "      <th>5</th>\n",
       "      <th>6</th>\n",
       "      <th>7</th>\n",
       "      <th>8</th>\n",
       "      <th>9</th>\n",
       "      <th>...</th>\n",
       "      <th>490</th>\n",
       "      <th>491</th>\n",
       "      <th>492</th>\n",
       "      <th>493</th>\n",
       "      <th>494</th>\n",
       "      <th>495</th>\n",
       "      <th>496</th>\n",
       "      <th>497</th>\n",
       "      <th>498</th>\n",
       "      <th>499</th>\n",
       "    </tr>\n",
       "  </thead>\n",
       "  <tbody>\n",
       "    <tr>\n",
       "      <th>0</th>\n",
       "      <td>1.000000</td>\n",
       "      <td>1.000000</td>\n",
       "      <td>1.000000</td>\n",
       "      <td>1.000000</td>\n",
       "      <td>1.000000</td>\n",
       "      <td>1.000000</td>\n",
       "      <td>1.000000</td>\n",
       "      <td>1.000000</td>\n",
       "      <td>1.000000</td>\n",
       "      <td>1.000000</td>\n",
       "      <td>...</td>\n",
       "      <td>1.000000</td>\n",
       "      <td>1.000000</td>\n",
       "      <td>1.000000</td>\n",
       "      <td>1.000000</td>\n",
       "      <td>1.000000</td>\n",
       "      <td>1.000000</td>\n",
       "      <td>1.000000</td>\n",
       "      <td>1.000000</td>\n",
       "      <td>1.000000</td>\n",
       "      <td>1.000000</td>\n",
       "    </tr>\n",
       "    <tr>\n",
       "      <th>1</th>\n",
       "      <td>0.998154</td>\n",
       "      <td>0.998042</td>\n",
       "      <td>1.006296</td>\n",
       "      <td>0.997121</td>\n",
       "      <td>0.998345</td>\n",
       "      <td>1.006337</td>\n",
       "      <td>1.005424</td>\n",
       "      <td>0.998992</td>\n",
       "      <td>1.001905</td>\n",
       "      <td>1.003121</td>\n",
       "      <td>...</td>\n",
       "      <td>1.001040</td>\n",
       "      <td>0.999177</td>\n",
       "      <td>1.004142</td>\n",
       "      <td>0.998489</td>\n",
       "      <td>0.999445</td>\n",
       "      <td>1.003228</td>\n",
       "      <td>1.004101</td>\n",
       "      <td>1.005296</td>\n",
       "      <td>1.001312</td>\n",
       "      <td>0.997510</td>\n",
       "    </tr>\n",
       "    <tr>\n",
       "      <th>2</th>\n",
       "      <td>1.001335</td>\n",
       "      <td>0.995902</td>\n",
       "      <td>1.006620</td>\n",
       "      <td>0.994050</td>\n",
       "      <td>0.998250</td>\n",
       "      <td>1.003425</td>\n",
       "      <td>1.003103</td>\n",
       "      <td>1.002779</td>\n",
       "      <td>1.003701</td>\n",
       "      <td>1.011633</td>\n",
       "      <td>...</td>\n",
       "      <td>1.000322</td>\n",
       "      <td>0.996969</td>\n",
       "      <td>0.997993</td>\n",
       "      <td>0.995913</td>\n",
       "      <td>0.997101</td>\n",
       "      <td>0.999513</td>\n",
       "      <td>0.999299</td>\n",
       "      <td>1.001698</td>\n",
       "      <td>1.005575</td>\n",
       "      <td>0.992306</td>\n",
       "    </tr>\n",
       "    <tr>\n",
       "      <th>3</th>\n",
       "      <td>0.999195</td>\n",
       "      <td>0.996589</td>\n",
       "      <td>1.000494</td>\n",
       "      <td>0.992229</td>\n",
       "      <td>0.992720</td>\n",
       "      <td>1.004947</td>\n",
       "      <td>1.003200</td>\n",
       "      <td>1.001891</td>\n",
       "      <td>1.001043</td>\n",
       "      <td>1.013388</td>\n",
       "      <td>...</td>\n",
       "      <td>1.004976</td>\n",
       "      <td>0.991295</td>\n",
       "      <td>0.999573</td>\n",
       "      <td>0.996166</td>\n",
       "      <td>0.995567</td>\n",
       "      <td>1.002321</td>\n",
       "      <td>0.999887</td>\n",
       "      <td>1.002592</td>\n",
       "      <td>1.006243</td>\n",
       "      <td>0.990613</td>\n",
       "    </tr>\n",
       "    <tr>\n",
       "      <th>4</th>\n",
       "      <td>1.000757</td>\n",
       "      <td>0.996320</td>\n",
       "      <td>0.996765</td>\n",
       "      <td>0.988696</td>\n",
       "      <td>0.992479</td>\n",
       "      <td>1.006420</td>\n",
       "      <td>1.000719</td>\n",
       "      <td>1.000616</td>\n",
       "      <td>1.002256</td>\n",
       "      <td>1.013311</td>\n",
       "      <td>...</td>\n",
       "      <td>1.000212</td>\n",
       "      <td>0.990029</td>\n",
       "      <td>1.001545</td>\n",
       "      <td>0.999611</td>\n",
       "      <td>0.995561</td>\n",
       "      <td>1.003291</td>\n",
       "      <td>0.998943</td>\n",
       "      <td>1.003352</td>\n",
       "      <td>1.008723</td>\n",
       "      <td>0.992528</td>\n",
       "    </tr>\n",
       "    <tr>\n",
       "      <th>...</th>\n",
       "      <td>...</td>\n",
       "      <td>...</td>\n",
       "      <td>...</td>\n",
       "      <td>...</td>\n",
       "      <td>...</td>\n",
       "      <td>...</td>\n",
       "      <td>...</td>\n",
       "      <td>...</td>\n",
       "      <td>...</td>\n",
       "      <td>...</td>\n",
       "      <td>...</td>\n",
       "      <td>...</td>\n",
       "      <td>...</td>\n",
       "      <td>...</td>\n",
       "      <td>...</td>\n",
       "      <td>...</td>\n",
       "      <td>...</td>\n",
       "      <td>...</td>\n",
       "      <td>...</td>\n",
       "      <td>...</td>\n",
       "      <td>...</td>\n",
       "    </tr>\n",
       "    <tr>\n",
       "      <th>2516</th>\n",
       "      <td>1.792201</td>\n",
       "      <td>1.463172</td>\n",
       "      <td>1.599422</td>\n",
       "      <td>1.305523</td>\n",
       "      <td>2.081001</td>\n",
       "      <td>2.129251</td>\n",
       "      <td>1.587071</td>\n",
       "      <td>1.723057</td>\n",
       "      <td>2.165473</td>\n",
       "      <td>1.612021</td>\n",
       "      <td>...</td>\n",
       "      <td>1.597500</td>\n",
       "      <td>2.131827</td>\n",
       "      <td>1.799120</td>\n",
       "      <td>2.198424</td>\n",
       "      <td>1.789619</td>\n",
       "      <td>1.625987</td>\n",
       "      <td>1.509358</td>\n",
       "      <td>1.589080</td>\n",
       "      <td>1.496000</td>\n",
       "      <td>1.983775</td>\n",
       "    </tr>\n",
       "    <tr>\n",
       "      <th>2517</th>\n",
       "      <td>1.793297</td>\n",
       "      <td>1.465786</td>\n",
       "      <td>1.599129</td>\n",
       "      <td>1.307479</td>\n",
       "      <td>2.084067</td>\n",
       "      <td>2.138935</td>\n",
       "      <td>1.586624</td>\n",
       "      <td>1.728621</td>\n",
       "      <td>2.176537</td>\n",
       "      <td>1.617432</td>\n",
       "      <td>...</td>\n",
       "      <td>1.600010</td>\n",
       "      <td>2.126844</td>\n",
       "      <td>1.796532</td>\n",
       "      <td>2.209561</td>\n",
       "      <td>1.785622</td>\n",
       "      <td>1.619452</td>\n",
       "      <td>1.504882</td>\n",
       "      <td>1.589442</td>\n",
       "      <td>1.500489</td>\n",
       "      <td>1.987996</td>\n",
       "    </tr>\n",
       "    <tr>\n",
       "      <th>2518</th>\n",
       "      <td>1.797009</td>\n",
       "      <td>1.464867</td>\n",
       "      <td>1.593898</td>\n",
       "      <td>1.312042</td>\n",
       "      <td>2.090123</td>\n",
       "      <td>2.142874</td>\n",
       "      <td>1.589315</td>\n",
       "      <td>1.728678</td>\n",
       "      <td>2.175138</td>\n",
       "      <td>1.618812</td>\n",
       "      <td>...</td>\n",
       "      <td>1.599061</td>\n",
       "      <td>2.135516</td>\n",
       "      <td>1.792959</td>\n",
       "      <td>2.206946</td>\n",
       "      <td>1.783893</td>\n",
       "      <td>1.625966</td>\n",
       "      <td>1.503480</td>\n",
       "      <td>1.586186</td>\n",
       "      <td>1.501864</td>\n",
       "      <td>1.989742</td>\n",
       "    </tr>\n",
       "    <tr>\n",
       "      <th>2519</th>\n",
       "      <td>1.790517</td>\n",
       "      <td>1.467106</td>\n",
       "      <td>1.593148</td>\n",
       "      <td>1.313087</td>\n",
       "      <td>2.095250</td>\n",
       "      <td>2.149161</td>\n",
       "      <td>1.587017</td>\n",
       "      <td>1.727844</td>\n",
       "      <td>2.176026</td>\n",
       "      <td>1.619272</td>\n",
       "      <td>...</td>\n",
       "      <td>1.596111</td>\n",
       "      <td>2.133840</td>\n",
       "      <td>1.796019</td>\n",
       "      <td>2.203535</td>\n",
       "      <td>1.791447</td>\n",
       "      <td>1.627102</td>\n",
       "      <td>1.497449</td>\n",
       "      <td>1.584655</td>\n",
       "      <td>1.505378</td>\n",
       "      <td>1.992548</td>\n",
       "    </tr>\n",
       "    <tr>\n",
       "      <th>2520</th>\n",
       "      <td>1.788334</td>\n",
       "      <td>1.467351</td>\n",
       "      <td>1.592464</td>\n",
       "      <td>1.315805</td>\n",
       "      <td>2.092316</td>\n",
       "      <td>2.152473</td>\n",
       "      <td>1.587212</td>\n",
       "      <td>1.726948</td>\n",
       "      <td>2.176146</td>\n",
       "      <td>1.623753</td>\n",
       "      <td>...</td>\n",
       "      <td>1.597523</td>\n",
       "      <td>2.131255</td>\n",
       "      <td>1.798125</td>\n",
       "      <td>2.199493</td>\n",
       "      <td>1.794939</td>\n",
       "      <td>1.626510</td>\n",
       "      <td>1.498100</td>\n",
       "      <td>1.580179</td>\n",
       "      <td>1.508916</td>\n",
       "      <td>1.996810</td>\n",
       "    </tr>\n",
       "  </tbody>\n",
       "</table>\n",
       "<p>2521 rows × 500 columns</p>\n",
       "</div>"
      ],
      "text/plain": [
       "           0         1         2         3         4         5         6    \\\n",
       "0     1.000000  1.000000  1.000000  1.000000  1.000000  1.000000  1.000000   \n",
       "1     0.998154  0.998042  1.006296  0.997121  0.998345  1.006337  1.005424   \n",
       "2     1.001335  0.995902  1.006620  0.994050  0.998250  1.003425  1.003103   \n",
       "3     0.999195  0.996589  1.000494  0.992229  0.992720  1.004947  1.003200   \n",
       "4     1.000757  0.996320  0.996765  0.988696  0.992479  1.006420  1.000719   \n",
       "...        ...       ...       ...       ...       ...       ...       ...   \n",
       "2516  1.792201  1.463172  1.599422  1.305523  2.081001  2.129251  1.587071   \n",
       "2517  1.793297  1.465786  1.599129  1.307479  2.084067  2.138935  1.586624   \n",
       "2518  1.797009  1.464867  1.593898  1.312042  2.090123  2.142874  1.589315   \n",
       "2519  1.790517  1.467106  1.593148  1.313087  2.095250  2.149161  1.587017   \n",
       "2520  1.788334  1.467351  1.592464  1.315805  2.092316  2.152473  1.587212   \n",
       "\n",
       "           7         8         9    ...       490       491       492  \\\n",
       "0     1.000000  1.000000  1.000000  ...  1.000000  1.000000  1.000000   \n",
       "1     0.998992  1.001905  1.003121  ...  1.001040  0.999177  1.004142   \n",
       "2     1.002779  1.003701  1.011633  ...  1.000322  0.996969  0.997993   \n",
       "3     1.001891  1.001043  1.013388  ...  1.004976  0.991295  0.999573   \n",
       "4     1.000616  1.002256  1.013311  ...  1.000212  0.990029  1.001545   \n",
       "...        ...       ...       ...  ...       ...       ...       ...   \n",
       "2516  1.723057  2.165473  1.612021  ...  1.597500  2.131827  1.799120   \n",
       "2517  1.728621  2.176537  1.617432  ...  1.600010  2.126844  1.796532   \n",
       "2518  1.728678  2.175138  1.618812  ...  1.599061  2.135516  1.792959   \n",
       "2519  1.727844  2.176026  1.619272  ...  1.596111  2.133840  1.796019   \n",
       "2520  1.726948  2.176146  1.623753  ...  1.597523  2.131255  1.798125   \n",
       "\n",
       "           493       494       495       496       497       498       499  \n",
       "0     1.000000  1.000000  1.000000  1.000000  1.000000  1.000000  1.000000  \n",
       "1     0.998489  0.999445  1.003228  1.004101  1.005296  1.001312  0.997510  \n",
       "2     0.995913  0.997101  0.999513  0.999299  1.001698  1.005575  0.992306  \n",
       "3     0.996166  0.995567  1.002321  0.999887  1.002592  1.006243  0.990613  \n",
       "4     0.999611  0.995561  1.003291  0.998943  1.003352  1.008723  0.992528  \n",
       "...        ...       ...       ...       ...       ...       ...       ...  \n",
       "2516  2.198424  1.789619  1.625987  1.509358  1.589080  1.496000  1.983775  \n",
       "2517  2.209561  1.785622  1.619452  1.504882  1.589442  1.500489  1.987996  \n",
       "2518  2.206946  1.783893  1.625966  1.503480  1.586186  1.501864  1.989742  \n",
       "2519  2.203535  1.791447  1.627102  1.497449  1.584655  1.505378  1.992548  \n",
       "2520  2.199493  1.794939  1.626510  1.498100  1.580179  1.508916  1.996810  \n",
       "\n",
       "[2521 rows x 500 columns]"
      ]
     },
     "execution_count": 58,
     "metadata": {},
     "output_type": "execute_result"
    }
   ],
   "source": [
    "# Run the Monte Carlo simulation to forecast 10 years cumulative returns\n",
    "MC_spy_10.calc_cumulative_return()"
   ]
  },
  {
   "cell_type": "code",
   "execution_count": 59,
   "metadata": {},
   "outputs": [
    {
     "data": {
      "image/png": "[encoded data removed]",
      "text/plain": [
       "<Figure size 432x288 with 1 Axes>"
      ]
     },
     "metadata": {
      "needs_background": "light"
     },
     "output_type": "display_data"
    }
   ],
   "source": [
    "# Visualize the 10-year Monte Carlo simulation by creating an\n",
    "# overlay line plot\n",
    "spy_10_line_plot = MC_spy_10.plot_simulation()\n"
   ]
  },
  {
   "cell_type": "code",
   "execution_count": 60,
   "metadata": {},
   "outputs": [
    {
     "data": {
      "image/png": "[encoded data removed]",
      "text/plain": [
       "<Figure size 432x288 with 1 Axes>"
      ]
     },
     "metadata": {
      "needs_background": "light"
     },
     "output_type": "display_data"
    }
   ],
   "source": [
    "# Visualize the probability distribution of the 10-year Monte Carlo simulation \n",
    "# by plotting a histogram\n",
    "spy_10_dist_plot = MC_spy_10.plot_distribution()"
   ]
  },
  {
   "cell_type": "code",
   "execution_count": 61,
   "metadata": {},
   "outputs": [
    {
     "name": "stdout",
     "output_type": "stream",
     "text": [
      "count           500.000000\n",
      "mean              1.768645\n",
      "std               0.250969\n",
      "min               1.096956\n",
      "25%               1.591441\n",
      "50%               1.742519\n",
      "75%               1.942927\n",
      "max               2.584863\n",
      "95% CI Lower      1.358982\n",
      "95% CI Upper      2.283579\n",
      "Name: 2520, dtype: float64\n"
     ]
    }
   ],
   "source": [
    "# Generate summary statistics from the 10-year Monte Carlo simulation results\n",
    "# Save the results as a variable\n",
    "spy_10_table = MC_spy_10.summarize_cumulative_return()\n",
    "\n",
    "\n",
    "# Review the 10-year Monte Carlo summary statistics\n",
    "print(spy_10_table)"
   ]
  },
  {
   "cell_type": "markdown",
   "metadata": {},
   "source": [
    "### Answer the following questions:"
   ]
  },
  {
   "cell_type": "markdown",
   "metadata": {},
   "source": [
    "#### Question: Using the current value of only the stock and bond portion of the member's portfolio and the summary statistics that you generated from the new Monte Carlo simulation, what are the lower and upper bounds for the expected value of the portfolio (with the new weights) with a 95% confidence interval?"
   ]
  },
  {
   "cell_type": "code",
   "execution_count": 62,
   "metadata": {},
   "outputs": [
    {
     "name": "stdout",
     "output_type": "stream",
     "text": [
      "61371.3\n"
     ]
    }
   ],
   "source": [
    "# Print the current balance of the stock and bond portion of the members portfolio\n",
    "print(total_stocks_bonds)\n"
   ]
  },
  {
   "cell_type": "code",
   "execution_count": 66,
   "metadata": {},
   "outputs": [
    {
     "name": "stdout",
     "output_type": "stream",
     "text": [
      "There is a 95% chance that with a 80% weight in SPY and 20% in AGG over the next 10 years will end within the range of $83402.48 and $140146.19.\n"
     ]
    }
   ],
   "source": [
    "# Use the lower and upper `95%` confidence intervals to calculate the range of the possible outcomes for the current stock/bond portfolio\n",
    "ci_lower_ten_cumulative_return = round(spy_10_table[8]*total_stocks_bonds,2)\n",
    "ci_upper_ten_cumulative_return = round(spy_10_table[9]*total_stocks_bonds,2)\n",
    "# Print the result of your calculations\n",
    "print(f\"There is a 95% chance that with a 80% weight in SPY and 20% in AGG over the next 10 years will end within the range of\"\n",
    "      f\" ${ci_lower_ten_cumulative_return} and ${ci_upper_ten_cumulative_return}.\")\n",
    "\n"
   ]
  },
  {
   "cell_type": "markdown",
   "metadata": {},
   "source": [
    "#### Question: Will weighting the portfolio more heavily to stocks allow the credit union members to retire after only 10 years?"
   ]
  },
  {
   "cell_type": "raw",
   "metadata": {},
   "source": [
    "**Answer** # The extra amount in stocks does not make up for the less time invested.  The interest compunds many more times in 30 years than the advantage from the extra stock percentage. "
   ]
  },
  {
   "cell_type": "code",
   "execution_count": null,
   "metadata": {},
   "outputs": [],
   "source": []
  }
 ],
 "metadata": {
  "kernelspec": {
   "display_name": "Python (dev)",
   "language": "python",
   "name": "dev"
  },
  "language_info": {
   "codemirror_mode": {
    "name": "ipython",
    "version": 3
   },
   "file_extension": ".py",
   "mimetype": "text/x-python",
   "name": "python",
   "nbconvert_exporter": "python",
   "pygments_lexer": "ipython3",
   "version": "3.7.10"
  }
 },
 "nbformat": 4,
 "nbformat_minor": 4
}
